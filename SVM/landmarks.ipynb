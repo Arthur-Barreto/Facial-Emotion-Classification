{
 "cells": [
  {
   "cell_type": "code",
   "execution_count": 1,
   "metadata": {},
   "outputs": [],
   "source": [
    "import numpy as np\n",
    "import cv2\n",
    "import mediapipe as mp\n",
    "import pandas as pd\n",
    "import os"
   ]
  },
  {
   "cell_type": "code",
   "execution_count": 2,
   "metadata": {},
   "outputs": [],
   "source": [
    "mp_face_mes = mp.solutions.face_mesh\n",
    "mp_drawing = mp.solutions.drawing_utils\n",
    "drawing_spec = mp_drawing.DrawingSpec(thickness=1, circle_radius=1)\n",
    "face_mesh = mp_face_mes.FaceMesh(max_num_faces=1, refine_landmarks=True, min_detection_confidence=0.5, min_tracking_confidence=0.5)"
   ]
  },
  {
   "cell_type": "code",
   "execution_count": 3,
   "metadata": {},
   "outputs": [
    {
     "name": "stdout",
     "output_type": "stream",
     "text": [
      "8391 8996 10004 7980 7999 7999\n"
     ]
    }
   ],
   "source": [
    "images_sad = os.listdir('../face_sad')\n",
    "images_happy = os.listdir('../face_happy')\n",
    "images_neutral = os.listdir('../face_neutral')\n",
    "images_angry = os.listdir('../face_angry')\n",
    "images_surprised = os.listdir('../face_surprised')\n",
    "images_disgusted = os.listdir('../face_disgusted')\n",
    "\n",
    "print(len(images_sad), len(images_happy), len(images_neutral), len(images_angry), len(images_surprised), len(images_disgusted))"
   ]
  },
  {
   "cell_type": "code",
   "execution_count": 4,
   "metadata": {},
   "outputs": [],
   "source": [
    "def inference_facemesh(image):\n",
    "    try:\n",
    "        frame = image.copy()\n",
    "    except AttributeError:\n",
    "        return None\n",
    "    H, W, _ = frame.shape\n",
    "    rgb_image = cv2.cvtColor(frame, cv2.COLOR_BGR2RGB)\n",
    "    results_mesh = face_mesh.process(rgb_image)\n",
    "    if results_mesh.multi_face_landmarks:\n",
    "        mesh_points=np.array([np.multiply([p.x, p.y], [W, H]).astype(int) for p in results_mesh.multi_face_landmarks[0].landmark])\n",
    "        return mesh_points\n",
    "    return None"
   ]
  },
  {
   "cell_type": "code",
   "execution_count": 5,
   "metadata": {},
   "outputs": [],
   "source": [
    "def resize_if_too_small(photo):\n",
    "    if photo.shape[0] < 300 and photo.shape[1] < 300:\n",
    "        photo = cv2.resize(photo, (300, 300), interpolation = cv2.INTER_CUBIC)\n",
    "    return photo"
   ]
  },
  {
   "cell_type": "code",
   "execution_count": 6,
   "metadata": {},
   "outputs": [
    {
     "name": "stderr",
     "output_type": "stream",
     "text": [
      "c:\\Users\\felip\\AppData\\Local\\Programs\\Python\\Python311\\Lib\\site-packages\\google\\protobuf\\symbol_database.py:55: UserWarning: SymbolDatabase.GetPrototype() is deprecated. Please use message_factory.GetMessageClass() instead. SymbolDatabase.GetPrototype() will be removed soon.\n",
      "  warnings.warn('SymbolDatabase.GetPrototype() is deprecated. Please '\n"
     ]
    },
    {
     "name": "stdout",
     "output_type": "stream",
     "text": [
      "meshes surprised:  7373\n"
     ]
    }
   ],
   "source": [
    "meshes_surprised = []\n",
    "for image in images_surprised:\n",
    "    img = cv2.imread('../face_surprised/'+image)\n",
    "    if img is None:\n",
    "        continue\n",
    "    img = resize_if_too_small(img)\n",
    "    mesh = inference_facemesh(img)\n",
    "    if mesh is not None:\n",
    "        meshes_surprised.append(mesh)\n",
    "print(\"meshes surprised: \", len(meshes_surprised))"
   ]
  },
  {
   "cell_type": "code",
   "execution_count": 7,
   "metadata": {},
   "outputs": [
    {
     "name": "stdout",
     "output_type": "stream",
     "text": [
      "meshes disgusted:  5421\n"
     ]
    }
   ],
   "source": [
    "meshes_disgusted = []\n",
    "for image in images_disgusted:\n",
    "    img = cv2.imread('../face_disgusted/'+image)\n",
    "    if img is None:\n",
    "        continue\n",
    "    img = resize_if_too_small(img)\n",
    "    mesh = inference_facemesh(img)\n",
    "    if mesh is not None:\n",
    "        meshes_disgusted.append(mesh)\n",
    "print(\"meshes disgusted: \", len(meshes_disgusted))"
   ]
  },
  {
   "cell_type": "code",
   "execution_count": 8,
   "metadata": {},
   "outputs": [
    {
     "name": "stdout",
     "output_type": "stream",
     "text": [
      "meshes sad:  7367\n"
     ]
    }
   ],
   "source": [
    "meshes_sad = []\n",
    "for image in images_sad:\n",
    "    img = cv2.imread('../face_sad/'+image)\n",
    "    if img is None:\n",
    "        continue\n",
    "    img = resize_if_too_small(img)\n",
    "    mesh = inference_facemesh(img)\n",
    "    if mesh is not None:\n",
    "        meshes_sad.append(mesh)\n",
    "print(\"meshes sad: \", len(meshes_sad))"
   ]
  },
  {
   "cell_type": "code",
   "execution_count": 9,
   "metadata": {},
   "outputs": [
    {
     "name": "stdout",
     "output_type": "stream",
     "text": [
      "meshes happy:  8048\n"
     ]
    }
   ],
   "source": [
    "meshes_happy = []\n",
    "for image in images_happy:\n",
    "    img = cv2.imread('../face_happy/'+image)\n",
    "    if img is None:\n",
    "        continue\n",
    "    img = resize_if_too_small(img)\n",
    "    mesh = inference_facemesh(img)\n",
    "    if mesh is not None:\n",
    "        meshes_happy.append(mesh)\n",
    "print(\"meshes happy: \", len(meshes_happy))"
   ]
  },
  {
   "cell_type": "code",
   "execution_count": 10,
   "metadata": {},
   "outputs": [
    {
     "name": "stdout",
     "output_type": "stream",
     "text": [
      "meshes neutral:  8950\n"
     ]
    }
   ],
   "source": [
    "meshes_neutral = []\n",
    "for image in images_neutral:\n",
    "    img = cv2.imread('../face_neutral/'+image)\n",
    "    if img is None:\n",
    "        continue\n",
    "    img = resize_if_too_small(img)\n",
    "    mesh = inference_facemesh(img)\n",
    "    if mesh is not None:\n",
    "        meshes_neutral.append(mesh)\n",
    "print(\"meshes neutral: \", len(meshes_neutral))"
   ]
  },
  {
   "cell_type": "code",
   "execution_count": 11,
   "metadata": {},
   "outputs": [
    {
     "name": "stdout",
     "output_type": "stream",
     "text": [
      "meshes angry:  6903\n"
     ]
    }
   ],
   "source": [
    "meshes_angry = []\n",
    "for image in images_angry:\n",
    "    img = cv2.imread('../face_angry/'+image)\n",
    "    if img is None:\n",
    "        continue\n",
    "    img = resize_if_too_small(img)\n",
    "    mesh = inference_facemesh(img)\n",
    "    if mesh is not None:\n",
    "        meshes_angry.append(mesh)\n",
    "print(\"meshes angry: \", len(meshes_angry))"
   ]
  },
  {
   "cell_type": "code",
   "execution_count": 12,
   "metadata": {},
   "outputs": [],
   "source": [
    "def normalize_landmarks(mesh):\n",
    "    nose_tip = mesh[4] \n",
    "    forehead = mesh[151]\n",
    "    mesh_norm = mesh - nose_tip\n",
    "    scale_factor = np.linalg.norm(forehead - nose_tip)\n",
    "    if np.isclose(scale_factor, 0):\n",
    "        scale_factor = 1e-6\n",
    "    mesh_norm = np.divide(mesh_norm, scale_factor)\n",
    "    landmarks_flat = mesh_norm.flatten()\n",
    "    return landmarks_flat"
   ]
  },
  {
   "cell_type": "code",
   "execution_count": 13,
   "metadata": {},
   "outputs": [],
   "source": [
    "meshes_sad_norm = []\n",
    "for mesh in meshes_sad:\n",
    "    mesh_norm = normalize_landmarks(mesh)\n",
    "    meshes_sad_norm.append(mesh_norm)\n",
    "\n",
    "meshes_happy_norm = []\n",
    "for mesh in meshes_happy:\n",
    "    mesh_norm = normalize_landmarks(mesh)\n",
    "    meshes_happy_norm.append(mesh_norm)\n",
    "\n",
    "meshes_neutral_norm = []\n",
    "for mesh in meshes_neutral:\n",
    "    mesh_norm = normalize_landmarks(mesh)\n",
    "    meshes_neutral_norm.append(mesh_norm)\n",
    "\n",
    "meshes_angry_norm = []\n",
    "for mesh in meshes_angry:\n",
    "    mesh_norm = normalize_landmarks(mesh)\n",
    "    meshes_angry_norm.append(mesh_norm)\n",
    "\n",
    "meshes_surprised_norm = []\n",
    "for mesh in meshes_surprised:\n",
    "    mesh_norm = normalize_landmarks(mesh)\n",
    "    meshes_surprised_norm.append(mesh_norm)\n",
    "\n",
    "meshes_disgusted_norm = []\n",
    "for mesh in meshes_disgusted:\n",
    "    mesh_norm = normalize_landmarks(mesh)\n",
    "    meshes_disgusted_norm.append(mesh_norm)"
   ]
  },
  {
   "cell_type": "code",
   "execution_count": 14,
   "metadata": {},
   "outputs": [],
   "source": [
    "df_sad = pd.DataFrame(meshes_sad_norm)\n",
    "df_happy = pd.DataFrame(meshes_happy_norm)\n",
    "df_neutral = pd.DataFrame(meshes_neutral_norm)\n",
    "df_angry = pd.DataFrame(meshes_angry_norm)\n",
    "df_surprise = pd.DataFrame(meshes_surprised_norm)\n",
    "df_disgust = pd.DataFrame(meshes_disgusted_norm)"
   ]
  },
  {
   "cell_type": "code",
   "execution_count": 15,
   "metadata": {},
   "outputs": [],
   "source": [
    "df_sad.to_csv('df_sad.csv', index=False)\n",
    "df_happy.to_csv('df_happy.csv', index=False)\n",
    "df_neutral.to_csv('df_neutral.csv', index=False)\n",
    "df_angry.to_csv('df_angry.csv', index=False)\n",
    "df_surprise.to_csv('df_surprise.csv', index=False)\n",
    "df_disgust.to_csv('df_disgust.csv', index=False)"
   ]
  }
 ],
 "metadata": {
  "kernelspec": {
   "display_name": "Python 3",
   "language": "python",
   "name": "python3"
  },
  "language_info": {
   "codemirror_mode": {
    "name": "ipython",
    "version": 3
   },
   "file_extension": ".py",
   "mimetype": "text/x-python",
   "name": "python",
   "nbconvert_exporter": "python",
   "pygments_lexer": "ipython3",
   "version": "3.11.0"
  },
  "orig_nbformat": 4
 },
 "nbformat": 4,
 "nbformat_minor": 2
}
