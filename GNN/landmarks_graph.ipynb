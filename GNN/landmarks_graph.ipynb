{
 "cells": [
  {
   "cell_type": "code",
   "execution_count": 1,
   "metadata": {},
   "outputs": [],
   "source": [
    "import numpy as np\n",
    "import cv2\n",
    "import mediapipe as mp\n",
    "from mediapipe.python.solutions.face_mesh_connections import FACEMESH_TESSELATION\n",
    "import json\n",
    "import networkx as nx\n",
    "import matplotlib.pyplot as plt\n",
    "import math\n",
    "import scipy.sparse\n",
    "import pathlib"
   ]
  },
  {
   "cell_type": "code",
   "execution_count": 2,
   "metadata": {},
   "outputs": [],
   "source": [
    "mp_face_mes = mp.solutions.face_mesh\n",
    "mp_drawing = mp.solutions.drawing_utils\n",
    "drawing_spec = mp_drawing.DrawingSpec(thickness=1, circle_radius=1)\n",
    "face_mesh = mp_face_mes.FaceMesh(max_num_faces=1, refine_landmarks=True, min_detection_confidence=0.5, min_tracking_confidence=0.5)"
   ]
  },
  {
   "cell_type": "code",
   "execution_count": 3,
   "metadata": {},
   "outputs": [],
   "source": [
    "# frame = cv2.imread('angry.jpeg') # read the image *** change the path to your image"
   ]
  },
  {
   "cell_type": "code",
   "execution_count": 4,
   "metadata": {},
   "outputs": [],
   "source": [
    "\n",
    "def preprocess_frame(frame):\n",
    "    H, W, _ = frame.shape\n",
    "    rgb_image = cv2.cvtColor(frame, cv2.COLOR_BGR2RGB)\n",
    "    results_mesh = face_mesh.process(rgb_image)\n",
    "    mesh_points=np.array([np.multiply([p.x, p.y], [W, H]).astype(int) for p in results_mesh.multi_face_landmarks[0].landmark])\n",
    "    nose_tip = mesh_points[4]\n",
    "    forehead = mesh_points[151]\n",
    "    scale_factor = np.linalg.norm(forehead - nose_tip)\n",
    "    if np.isclose(scale_factor, 0):\n",
    "        scale_factor = 1e-6\n",
    "    return results_mesh, mesh_points, scale_factor"
   ]
  },
  {
   "cell_type": "code",
   "execution_count": 5,
   "metadata": {},
   "outputs": [],
   "source": [
    "# results_mesh, mesh_points, scale_factor = preprocess_frame(frame)"
   ]
  },
  {
   "cell_type": "code",
   "execution_count": 6,
   "metadata": {},
   "outputs": [],
   "source": [
    "def gera_grafos(results_mesh, mesh_points, scale_factor):\n",
    "    graph = nx.Graph()\n",
    "    vertices = []\n",
    "    edges = []\n",
    "    distances = []\n",
    "\n",
    "    for edge in FACEMESH_TESSELATION:\n",
    "        pointA_index = edge[0]\n",
    "        pointB_index = edge[1]\n",
    "        if [pointA_index, pointB_index] not in edges:\n",
    "            edges.append([pointA_index, pointB_index])\n",
    "            graph.add_edge(pointA_index, pointB_index)\n",
    "            x_diff = results_mesh.multi_face_landmarks[0].landmark[pointA_index].x - results_mesh.multi_face_landmarks[0].landmark[pointB_index].x\n",
    "            y_diff = results_mesh.multi_face_landmarks[0].landmark[pointA_index].y - results_mesh.multi_face_landmarks[0].landmark[pointB_index].y\n",
    "            x_diff /= scale_factor\n",
    "            y_diff /= scale_factor\n",
    "            x_diff *= 100000\n",
    "            y_diff *= 100000\n",
    "            distances.append(math.sqrt(x_diff**2 + y_diff**2))\n",
    "        if pointA_index not in vertices:\n",
    "            vertices.append(pointA_index)\n",
    "            graph.add_node(pointA_index)\n",
    "        if pointB_index not in vertices:\n",
    "            vertices.append(pointB_index)\n",
    "            graph.add_node(pointB_index)\n",
    "    return graph, distances"
   ]
  },
  {
   "cell_type": "code",
   "execution_count": 7,
   "metadata": {},
   "outputs": [],
   "source": [
    "def plot_graph(graph, mesh_points):\n",
    "    plt.figure(figsize=(10,10))\n",
    "    nx.draw_networkx(graph, pos=mesh_points, node_size=10, node_color='black', edge_color='black', with_labels=False)\n",
    "    plt.show()"
   ]
  },
  {
   "cell_type": "code",
   "execution_count": 8,
   "metadata": {},
   "outputs": [],
   "source": [
    "def get_matrix_adj(graph):\n",
    "    matrix_adj = nx.adjacency_matrix(graph)\n",
    "    sparce_matrix = scipy.sparse.csr_matrix(matrix_adj)\n",
    "    return sparce_matrix    "
   ]
  },
  {
   "cell_type": "code",
   "execution_count": 9,
   "metadata": {},
   "outputs": [],
   "source": [
    "def save_adjacency_matrix(adjacency_matrix, filename):\n",
    "    path_name = pathlib.Path(filename).parent.absolute()\n",
    "    emotion = path_name.name.split('_')[1]\n",
    "    path_name = path_name.parent.absolute()\n",
    "    path_name = path_name.joinpath(f'{emotion}_adj')\n",
    "    # separete the filename from the path\n",
    "    filename = pathlib.Path(filename).absolute()\n",
    "    # create te folder if it doesn't exist\n",
    "    path_name.mkdir(parents=True, exist_ok=True)\n",
    "    # save the npz file in the path_name\n",
    "    file_out = path_name.joinpath(f'{filename.name}.npz')\n",
    "\n",
    "    \n",
    "    scipy.sparse.save_npz(file_out, adjacency_matrix)"
   ]
  },
  {
   "cell_type": "code",
   "execution_count": 10,
   "metadata": {},
   "outputs": [],
   "source": [
    "# save distance matrix\n",
    "def save_distance_matrix(distances, filename):\n",
    "    path_name = pathlib.Path(filename).parent.absolute()\n",
    "    emotion = path_name.name.split('_')[1]\n",
    "    path_name = path_name.parent.absolute()\n",
    "    path_name = path_name.joinpath(f'{emotion}_dist')\n",
    "    # separete the filename from the path\n",
    "    filename = pathlib.Path(filename).absolute()\n",
    "    # create te folder if it doesn't exist\n",
    "    path_name.mkdir(parents=True, exist_ok=True)\n",
    "    # save the npz file in the path_name\n",
    "    file_out = path_name.joinpath(f'{filename.name}.json')\n",
    "    with open(file_out, 'w') as f:\n",
    "        json.dump(distances, f)"
   ]
  },
  {
   "cell_type": "code",
   "execution_count": 11,
   "metadata": {},
   "outputs": [],
   "source": [
    "def pipeline(img, plot=False):\n",
    "    name = img.split('.')[0]\n",
    "    frame = cv2.imread(img)  # read the image *** change the path to your image\n",
    "    results_mesh, mesh_points, scale_factor = preprocess_frame(frame)\n",
    "    graph, distances = gera_grafos(results_mesh, mesh_points, scale_factor)\n",
    "    #adjacency_matrix = get_matrix_adj(graph)\n",
    "\n",
    "    #save_adjacency_matrix(adjacency_matrix, name)\n",
    "    save_distance_matrix(distances, name)\n",
    "    if plot:\n",
    "        plot_graph(graph, mesh_points)"
   ]
  },
  {
   "cell_type": "code",
   "execution_count": 12,
   "metadata": {},
   "outputs": [],
   "source": [
    "# img_angry = 'face_angry/0.jpg'"
   ]
  },
  {
   "cell_type": "code",
   "execution_count": 13,
   "metadata": {},
   "outputs": [],
   "source": [
    "# pipeline(\"img_angry\", plot=True)"
   ]
  },
  {
   "cell_type": "markdown",
   "metadata": {},
   "source": [
    "## Aplicando a pipeline para o dataset de treino"
   ]
  },
  {
   "cell_type": "code",
   "execution_count": 14,
   "metadata": {},
   "outputs": [
    {
     "name": "stdout",
     "output_type": "stream",
     "text": [
      "4283\n"
     ]
    }
   ],
   "source": [
    "### começando pelas fotos do tipo angry\n",
    "\n",
    "import pathlib\n",
    "\n",
    "actual_path = pathlib.Path().absolute()\n",
    "\n",
    "# subindo um nível\n",
    "\n",
    "path = actual_path.parent\n",
    "\n",
    "angry_path = path / 'face_surprised'\n",
    "disgusted_path = path / 'face_disgusted'\n",
    "happy_path = path / 'face_happy'\n",
    "neutral_path = path / 'face_neutral'\n",
    "sad_path = path / 'face_sad'\n",
    "surprised_path = path / 'face_surprised'\n",
    "\n",
    "path_list = [angry_path, disgusted_path, happy_path, neutral_path, sad_path, surprised_path]\n",
    "\n",
    "# constando o número de arquivos jpg\n",
    "\n",
    "import os\n",
    "\n",
    "angry_files = os.listdir(angry_path)\n",
    "\n",
    "print(len(angry_files))"
   ]
  },
  {
   "cell_type": "code",
   "execution_count": 15,
   "metadata": {},
   "outputs": [
    {
     "name": "stdout",
     "output_type": "stream",
     "text": [
      "c:\\Users\\rodri\\Documents\\Rodrigo\\Insper\\SextoSemestre\\Facial-Emotion-Classification-Graph_Fork\\face_surprised\n",
      "271\n",
      "c:\\Users\\rodri\\Documents\\Rodrigo\\Insper\\SextoSemestre\\Facial-Emotion-Classification-Graph_Fork\\face_disgusted\n",
      "114\n",
      "c:\\Users\\rodri\\Documents\\Rodrigo\\Insper\\SextoSemestre\\Facial-Emotion-Classification-Graph_Fork\\face_happy\n",
      "904\n",
      "c:\\Users\\rodri\\Documents\\Rodrigo\\Insper\\SextoSemestre\\Facial-Emotion-Classification-Graph_Fork\\face_neutral\n",
      "639\n",
      "c:\\Users\\rodri\\Documents\\Rodrigo\\Insper\\SextoSemestre\\Facial-Emotion-Classification-Graph_Fork\\face_sad\n",
      "980\n",
      "c:\\Users\\rodri\\Documents\\Rodrigo\\Insper\\SextoSemestre\\Facial-Emotion-Classification-Graph_Fork\\face_surprised\n",
      "272\n"
     ]
    }
   ],
   "source": [
    "\n",
    "\n",
    "for emotion_path in path_list:\n",
    "    count = 0\n",
    "    print(emotion_path)\n",
    "    emotion_files = os.listdir(emotion_path)\n",
    "    for img in emotion_files:\n",
    "\n",
    "        try:\n",
    "            path_img = emotion_path / img\n",
    "            pipeline(str(path_img), plot=False)\n",
    "        except Exception as e:\n",
    "            count += 1\n",
    "            continue\n",
    "\n",
    "    print(count)\n"
   ]
  },
  {
   "cell_type": "code",
   "execution_count": 16,
   "metadata": {},
   "outputs": [
    {
     "name": "stdout",
     "output_type": "stream",
     "text": [
      "4283\n",
      "1718\n",
      "8996\n",
      "7504\n",
      "8391\n",
      "4283\n"
     ]
    }
   ],
   "source": [
    "# print the amount of processed images\n",
    "for emotion_path in path_list:\n",
    "    print(len(os.listdir(emotion_path)))"
   ]
  },
  {
   "cell_type": "code",
   "execution_count": 17,
   "metadata": {},
   "outputs": [
    {
     "name": "stdout",
     "output_type": "stream",
     "text": [
      "c:\\Users\\rodri\\Documents\\Rodrigo\\Insper\\SextoSemestre\\Facial-Emotion-Classification-Graph_Fork\\angry_adj\n",
      "(468, 468)\n",
      "(468, 468)\n",
      "(468, 468)\n",
      "(468, 468)\n",
      "(468, 468)\n",
      "(468, 468)\n",
      "(468, 468)\n",
      "(468, 468)\n",
      "(468, 468)\n",
      "(468, 468)\n",
      "0 and 1 are equal\n",
      "0 and 2 are equal\n",
      "0 and 3 are equal\n",
      "0 and 4 are equal\n",
      "0 and 5 are equal\n",
      "0 and 6 are equal\n",
      "0 and 7 are equal\n",
      "0 and 8 are equal\n",
      "0 and 9 are equal\n",
      "1 and 2 are equal\n",
      "1 and 3 are equal\n",
      "1 and 4 are equal\n",
      "1 and 5 are equal\n",
      "1 and 6 are equal\n",
      "1 and 7 are equal\n",
      "1 and 8 are equal\n",
      "1 and 9 are equal\n",
      "2 and 3 are equal\n",
      "2 and 4 are equal\n",
      "2 and 5 are equal\n",
      "2 and 6 are equal\n",
      "2 and 7 are equal\n",
      "2 and 8 are equal\n",
      "2 and 9 are equal\n",
      "3 and 4 are equal\n",
      "3 and 5 are equal\n",
      "3 and 6 are equal\n",
      "3 and 7 are equal\n",
      "3 and 8 are equal\n",
      "3 and 9 are equal\n",
      "4 and 5 are equal\n",
      "4 and 6 are equal\n",
      "4 and 7 are equal\n",
      "4 and 8 are equal\n",
      "4 and 9 are equal\n",
      "5 and 6 are equal\n",
      "5 and 7 are equal\n",
      "5 and 8 are equal\n",
      "5 and 9 are equal\n",
      "6 and 7 are equal\n",
      "6 and 8 are equal\n",
      "6 and 9 are equal\n",
      "7 and 8 are equal\n",
      "7 and 9 are equal\n",
      "8 and 9 are equal\n"
     ]
    }
   ],
   "source": [
    "# teste\n",
    "# load 10 npz files from the folder angry_adj\n",
    "\n",
    "import pathlib\n",
    "\n",
    "actual_path = pathlib.Path().absolute()\n",
    "\n",
    "# subindo um nível\n",
    "\n",
    "path = actual_path.parent\n",
    "\n",
    "import numpy as np\n",
    "import scipy.sparse\n",
    "\n",
    "# load the npz file\n",
    "# the npz file is a sparse matrix\n",
    "\n",
    "adj_angry_path = path / 'angry_adj'\n",
    "print(adj_angry_path)\n",
    "\n",
    "matrix_list = []\n",
    "\n",
    "for file in os.listdir(adj_angry_path)[:10]:\n",
    "    file_path = adj_angry_path / file\n",
    "    sparse_matrix = scipy.sparse.load_npz(file_path)\n",
    "    sparse_matrix = sparse_matrix.todense()\n",
    "    print(sparse_matrix.shape)\n",
    "    matrix_list.append(sparse_matrix)\n",
    "\n",
    "# compara a matriz de adjacência de duas imagens\n",
    "for i in range(len(matrix_list)):\n",
    "    for j in range(i+1, len(matrix_list)):\n",
    "        # print if any of the matrix is different\n",
    "        if not np.array_equal(matrix_list[i], matrix_list[j]):\n",
    "            print(f'{i} and {j} are different')\n",
    "        else:\n",
    "            print(f'{i} and {j} are equal')\n",
    "\n",
    "\n",
    "    "
   ]
  }
 ],
 "metadata": {
  "kernelspec": {
   "display_name": "Python 3",
   "language": "python",
   "name": "python3"
  },
  "language_info": {
   "codemirror_mode": {
    "name": "ipython",
    "version": 3
   },
   "file_extension": ".py",
   "mimetype": "text/x-python",
   "name": "python",
   "nbconvert_exporter": "python",
   "pygments_lexer": "ipython3",
   "version": "3.11.4"
  }
 },
 "nbformat": 4,
 "nbformat_minor": 2
}
