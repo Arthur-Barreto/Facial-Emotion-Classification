{
 "cells": [
  {
   "cell_type": "code",
   "execution_count": 143,
   "metadata": {},
   "outputs": [],
   "source": [
    "import numpy as np\n",
    "import cv2\n",
    "import mediapipe as mp\n",
    "from mediapipe.python.solutions.face_mesh_connections import FACEMESH_TESSELATION\n",
    "import json\n",
    "import networkx as nx\n",
    "import matplotlib.pyplot as plt\n",
    "import math\n",
    "import scipy.sparse\n",
    "import pathlib"
   ]
  },
  {
   "cell_type": "code",
   "execution_count": 144,
   "metadata": {},
   "outputs": [],
   "source": [
    "mp_face_mes = mp.solutions.face_mesh\n",
    "mp_drawing = mp.solutions.drawing_utils\n",
    "drawing_spec = mp_drawing.DrawingSpec(thickness=1, circle_radius=1)\n",
    "face_mesh = mp_face_mes.FaceMesh(max_num_faces=1, refine_landmarks=True, min_detection_confidence=0.5, min_tracking_confidence=0.5)"
   ]
  },
  {
   "cell_type": "code",
   "execution_count": 145,
   "metadata": {},
   "outputs": [],
   "source": [
    "# frame = cv2.imread('angry.jpeg') # read the image *** change the path to your image"
   ]
  },
  {
   "cell_type": "code",
   "execution_count": 146,
   "metadata": {},
   "outputs": [],
   "source": [
    "\n",
    "def preprocess_frame(frame):\n",
    "    H, W, _ = frame.shape\n",
    "    rgb_image = cv2.cvtColor(frame, cv2.COLOR_BGR2RGB)\n",
    "    results_mesh = face_mesh.process(rgb_image)\n",
    "    mesh_points=np.array([np.multiply([p.x, p.y], [W, H]).astype(int) for p in results_mesh.multi_face_landmarks[0].landmark])\n",
    "    nose_tip = mesh_points[4]\n",
    "    forehead = mesh_points[151]\n",
    "    scale_factor = np.linalg.norm(forehead - nose_tip)\n",
    "    if np.isclose(scale_factor, 0):\n",
    "        scale_factor = 1e-6\n",
    "    return results_mesh, mesh_points, scale_factor"
   ]
  },
  {
   "cell_type": "code",
   "execution_count": 147,
   "metadata": {},
   "outputs": [],
   "source": [
    "# results_mesh, mesh_points, scale_factor = preprocess_frame(frame)"
   ]
  },
  {
   "cell_type": "code",
   "execution_count": 148,
   "metadata": {},
   "outputs": [],
   "source": [
    "def gera_grafos(results_mesh, mesh_points, scale_factor):\n",
    "    graph = nx.Graph()\n",
    "    vertices = []\n",
    "    edges = []\n",
    "    distances = []\n",
    "\n",
    "    for edge in FACEMESH_TESSELATION:\n",
    "        pointA_index = edge[0]\n",
    "        pointB_index = edge[1]\n",
    "        if [pointA_index, pointB_index] not in edges:\n",
    "            edges.append([pointA_index, pointB_index])\n",
    "            graph.add_edge(pointA_index, pointB_index)\n",
    "            x_diff = results_mesh.multi_face_landmarks[0].landmark[pointA_index].x - results_mesh.multi_face_landmarks[0].landmark[pointB_index].x\n",
    "            y_diff = results_mesh.multi_face_landmarks[0].landmark[pointA_index].y - results_mesh.multi_face_landmarks[0].landmark[pointB_index].y\n",
    "            x_diff /= scale_factor\n",
    "            y_diff /= scale_factor\n",
    "            x_diff *= 100000\n",
    "            y_diff *= 100000\n",
    "            distances.append(math.sqrt(x_diff**2 + y_diff**2))\n",
    "        if pointA_index not in vertices:\n",
    "            vertices.append(pointA_index)\n",
    "            graph.add_node(pointA_index)\n",
    "        if pointB_index not in vertices:\n",
    "            vertices.append(pointB_index)\n",
    "            graph.add_node(pointB_index)\n",
    "    return graph"
   ]
  },
  {
   "cell_type": "code",
   "execution_count": 149,
   "metadata": {},
   "outputs": [],
   "source": [
    "def plot_graph(graph, mesh_points):\n",
    "    plt.figure(figsize=(10,10))\n",
    "    nx.draw_networkx(graph, pos=mesh_points, node_size=10, node_color='black', edge_color='black', with_labels=False)\n",
    "    plt.show()"
   ]
  },
  {
   "cell_type": "code",
   "execution_count": 150,
   "metadata": {},
   "outputs": [],
   "source": [
    "def get_matrix_adj(graph):\n",
    "    matrix_adj = nx.adjacency_matrix(graph)\n",
    "    sparce_matrix = scipy.sparse.csr_matrix(matrix_adj)\n",
    "    return sparce_matrix    "
   ]
  },
  {
   "cell_type": "code",
   "execution_count": 151,
   "metadata": {},
   "outputs": [],
   "source": [
    "def save_adjacency_matrix(adjacency_matrix, filename):\n",
    "    path_name = pathlib.Path(filename).parent.absolute()\n",
    "    print('path_name ', path_name)\n",
    "    emotion = path_name.name.split('_')[1]\n",
    "    print('emotion ',emotion)\n",
    "    path_name = path_name.parent.absolute()\n",
    "    print(path_name)\n",
    "    path_name = path_name.joinpath(f'{emotion}_adj')\n",
    "    print('save_path ',path_name)\n",
    "    # separete the filename from the path\n",
    "    filename = pathlib.Path(filename).absolute()\n",
    "    print('filename ', filename)\n",
    "    # create te folder if it doesn't exist\n",
    "    path_name.mkdir(parents=True, exist_ok=True)\n",
    "    # save the npz file in the path_name\n",
    "    file_out = path_name.joinpath(f'{filename.name}.npz')\n",
    "    print(file_out)\n",
    "\n",
    "    \n",
    "    scipy.sparse.save_npz(file_out, adjacency_matrix)"
   ]
  },
  {
   "cell_type": "code",
   "execution_count": 152,
   "metadata": {},
   "outputs": [],
   "source": [
    "def pipeline(img, plot=False):\n",
    "    name = img.split('.')[0]\n",
    "    frame = cv2.imread(img)  # read the image *** change the path to your image\n",
    "    results_mesh, mesh_points, scale_factor = preprocess_frame(frame)\n",
    "    graph = gera_grafos(results_mesh, mesh_points, scale_factor)\n",
    "    adjacency_matrix = get_matrix_adj(graph)\n",
    "\n",
    "    save_adjacency_matrix(adjacency_matrix, name)\n",
    "    if plot:\n",
    "        plot_graph(graph, mesh_points)"
   ]
  },
  {
   "cell_type": "code",
   "execution_count": 153,
   "metadata": {},
   "outputs": [],
   "source": [
    "# img_angry = 'face_angry/0.jpg'"
   ]
  },
  {
   "cell_type": "code",
   "execution_count": 154,
   "metadata": {},
   "outputs": [],
   "source": [
    "# pipeline(\"img_angry\", plot=True)"
   ]
  },
  {
   "cell_type": "markdown",
   "metadata": {},
   "source": [
    "## Aplicando a pipeline para o dataset de treino"
   ]
  },
  {
   "cell_type": "code",
   "execution_count": 155,
   "metadata": {},
   "outputs": [
    {
     "name": "stdout",
     "output_type": "stream",
     "text": [
      "5017\n"
     ]
    }
   ],
   "source": [
    "### começando pelas fotos do tipo angry\n",
    "\n",
    "import pathlib\n",
    "\n",
    "actual_path = pathlib.Path().absolute()\n",
    "\n",
    "# subindo um nível\n",
    "\n",
    "path = actual_path.parent\n",
    "\n",
    "angry_path = path / 'face_angry'\n",
    "\n",
    "# constando o número de arquivos jpg\n",
    "\n",
    "import os\n",
    "\n",
    "angry_files = os.listdir(angry_path)\n",
    "\n",
    "print(len(angry_files))"
   ]
  },
  {
   "cell_type": "code",
   "execution_count": 156,
   "metadata": {},
   "outputs": [
    {
     "name": "stdout",
     "output_type": "stream",
     "text": [
      "0.jpg\n",
      "path c:\\Users\\rodri\\Documents\\Rodrigo\\Insper\\SextoSemestre\\Facial-Emotion-Classification-Graph_Fork\\face_angry\\0.jpg\n",
      "path_name  c:\\Users\\rodri\\Documents\\Rodrigo\\Insper\\SextoSemestre\\Facial-Emotion-Classification-Graph_Fork\\face_angry\n",
      "emotion  angry\n",
      "c:\\Users\\rodri\\Documents\\Rodrigo\\Insper\\SextoSemestre\\Facial-Emotion-Classification-Graph_Fork\n",
      "save_path  c:\\Users\\rodri\\Documents\\Rodrigo\\Insper\\SextoSemestre\\Facial-Emotion-Classification-Graph_Fork\\angry_adj\n",
      "filename  c:\\Users\\rodri\\Documents\\Rodrigo\\Insper\\SextoSemestre\\Facial-Emotion-Classification-Graph_Fork\\face_angry\\0\n",
      "c:\\Users\\rodri\\Documents\\Rodrigo\\Insper\\SextoSemestre\\Facial-Emotion-Classification-Graph_Fork\\angry_adj\\0.npz\n",
      "1.jpg\n",
      "path c:\\Users\\rodri\\Documents\\Rodrigo\\Insper\\SextoSemestre\\Facial-Emotion-Classification-Graph_Fork\\face_angry\\1.jpg\n",
      "path_name  c:\\Users\\rodri\\Documents\\Rodrigo\\Insper\\SextoSemestre\\Facial-Emotion-Classification-Graph_Fork\\face_angry\n",
      "emotion  angry\n",
      "c:\\Users\\rodri\\Documents\\Rodrigo\\Insper\\SextoSemestre\\Facial-Emotion-Classification-Graph_Fork\n",
      "save_path  c:\\Users\\rodri\\Documents\\Rodrigo\\Insper\\SextoSemestre\\Facial-Emotion-Classification-Graph_Fork\\angry_adj\n",
      "filename  c:\\Users\\rodri\\Documents\\Rodrigo\\Insper\\SextoSemestre\\Facial-Emotion-Classification-Graph_Fork\\face_angry\\1\n",
      "c:\\Users\\rodri\\Documents\\Rodrigo\\Insper\\SextoSemestre\\Facial-Emotion-Classification-Graph_Fork\\angry_adj\\1.npz\n",
      "10.jpg\n",
      "path c:\\Users\\rodri\\Documents\\Rodrigo\\Insper\\SextoSemestre\\Facial-Emotion-Classification-Graph_Fork\\face_angry\\10.jpg\n",
      "path_name  c:\\Users\\rodri\\Documents\\Rodrigo\\Insper\\SextoSemestre\\Facial-Emotion-Classification-Graph_Fork\\face_angry\n",
      "emotion  angry\n",
      "c:\\Users\\rodri\\Documents\\Rodrigo\\Insper\\SextoSemestre\\Facial-Emotion-Classification-Graph_Fork\n",
      "save_path  c:\\Users\\rodri\\Documents\\Rodrigo\\Insper\\SextoSemestre\\Facial-Emotion-Classification-Graph_Fork\\angry_adj\n",
      "filename  c:\\Users\\rodri\\Documents\\Rodrigo\\Insper\\SextoSemestre\\Facial-Emotion-Classification-Graph_Fork\\face_angry\\10\n",
      "c:\\Users\\rodri\\Documents\\Rodrigo\\Insper\\SextoSemestre\\Facial-Emotion-Classification-Graph_Fork\\angry_adj\\10.npz\n",
      "10002.jpg\n",
      "path c:\\Users\\rodri\\Documents\\Rodrigo\\Insper\\SextoSemestre\\Facial-Emotion-Classification-Graph_Fork\\face_angry\\10002.jpg\n",
      "path_name  c:\\Users\\rodri\\Documents\\Rodrigo\\Insper\\SextoSemestre\\Facial-Emotion-Classification-Graph_Fork\\face_angry\n",
      "emotion  angry\n",
      "c:\\Users\\rodri\\Documents\\Rodrigo\\Insper\\SextoSemestre\\Facial-Emotion-Classification-Graph_Fork\n",
      "save_path  c:\\Users\\rodri\\Documents\\Rodrigo\\Insper\\SextoSemestre\\Facial-Emotion-Classification-Graph_Fork\\angry_adj\n",
      "filename  c:\\Users\\rodri\\Documents\\Rodrigo\\Insper\\SextoSemestre\\Facial-Emotion-Classification-Graph_Fork\\face_angry\\10002\n",
      "c:\\Users\\rodri\\Documents\\Rodrigo\\Insper\\SextoSemestre\\Facial-Emotion-Classification-Graph_Fork\\angry_adj\\10002.npz\n",
      "10016.jpg\n",
      "path c:\\Users\\rodri\\Documents\\Rodrigo\\Insper\\SextoSemestre\\Facial-Emotion-Classification-Graph_Fork\\face_angry\\10016.jpg\n",
      "path_name  c:\\Users\\rodri\\Documents\\Rodrigo\\Insper\\SextoSemestre\\Facial-Emotion-Classification-Graph_Fork\\face_angry\n",
      "emotion  angry\n",
      "c:\\Users\\rodri\\Documents\\Rodrigo\\Insper\\SextoSemestre\\Facial-Emotion-Classification-Graph_Fork\n",
      "save_path  c:\\Users\\rodri\\Documents\\Rodrigo\\Insper\\SextoSemestre\\Facial-Emotion-Classification-Graph_Fork\\angry_adj\n",
      "filename  c:\\Users\\rodri\\Documents\\Rodrigo\\Insper\\SextoSemestre\\Facial-Emotion-Classification-Graph_Fork\\face_angry\\10016\n",
      "c:\\Users\\rodri\\Documents\\Rodrigo\\Insper\\SextoSemestre\\Facial-Emotion-Classification-Graph_Fork\\angry_adj\\10016.npz\n",
      "10038.jpg\n",
      "path c:\\Users\\rodri\\Documents\\Rodrigo\\Insper\\SextoSemestre\\Facial-Emotion-Classification-Graph_Fork\\face_angry\\10038.jpg\n",
      "path_name  c:\\Users\\rodri\\Documents\\Rodrigo\\Insper\\SextoSemestre\\Facial-Emotion-Classification-Graph_Fork\\face_angry\n",
      "emotion  angry\n",
      "c:\\Users\\rodri\\Documents\\Rodrigo\\Insper\\SextoSemestre\\Facial-Emotion-Classification-Graph_Fork\n",
      "save_path  c:\\Users\\rodri\\Documents\\Rodrigo\\Insper\\SextoSemestre\\Facial-Emotion-Classification-Graph_Fork\\angry_adj\n",
      "filename  c:\\Users\\rodri\\Documents\\Rodrigo\\Insper\\SextoSemestre\\Facial-Emotion-Classification-Graph_Fork\\face_angry\\10038\n",
      "c:\\Users\\rodri\\Documents\\Rodrigo\\Insper\\SextoSemestre\\Facial-Emotion-Classification-Graph_Fork\\angry_adj\\10038.npz\n",
      "10052.jpg\n",
      "path c:\\Users\\rodri\\Documents\\Rodrigo\\Insper\\SextoSemestre\\Facial-Emotion-Classification-Graph_Fork\\face_angry\\10052.jpg\n",
      "path_name  c:\\Users\\rodri\\Documents\\Rodrigo\\Insper\\SextoSemestre\\Facial-Emotion-Classification-Graph_Fork\\face_angry\n",
      "emotion  angry\n",
      "c:\\Users\\rodri\\Documents\\Rodrigo\\Insper\\SextoSemestre\\Facial-Emotion-Classification-Graph_Fork\n",
      "save_path  c:\\Users\\rodri\\Documents\\Rodrigo\\Insper\\SextoSemestre\\Facial-Emotion-Classification-Graph_Fork\\angry_adj\n",
      "filename  c:\\Users\\rodri\\Documents\\Rodrigo\\Insper\\SextoSemestre\\Facial-Emotion-Classification-Graph_Fork\\face_angry\\10052\n",
      "c:\\Users\\rodri\\Documents\\Rodrigo\\Insper\\SextoSemestre\\Facial-Emotion-Classification-Graph_Fork\\angry_adj\\10052.npz\n",
      "10063.jpg\n",
      "path c:\\Users\\rodri\\Documents\\Rodrigo\\Insper\\SextoSemestre\\Facial-Emotion-Classification-Graph_Fork\\face_angry\\10063.jpg\n",
      "path_name  c:\\Users\\rodri\\Documents\\Rodrigo\\Insper\\SextoSemestre\\Facial-Emotion-Classification-Graph_Fork\\face_angry\n",
      "emotion  angry\n",
      "c:\\Users\\rodri\\Documents\\Rodrigo\\Insper\\SextoSemestre\\Facial-Emotion-Classification-Graph_Fork\n",
      "save_path  c:\\Users\\rodri\\Documents\\Rodrigo\\Insper\\SextoSemestre\\Facial-Emotion-Classification-Graph_Fork\\angry_adj\n",
      "filename  c:\\Users\\rodri\\Documents\\Rodrigo\\Insper\\SextoSemestre\\Facial-Emotion-Classification-Graph_Fork\\face_angry\\10063\n",
      "c:\\Users\\rodri\\Documents\\Rodrigo\\Insper\\SextoSemestre\\Facial-Emotion-Classification-Graph_Fork\\angry_adj\\10063.npz\n",
      "10065.jpg\n",
      "path c:\\Users\\rodri\\Documents\\Rodrigo\\Insper\\SextoSemestre\\Facial-Emotion-Classification-Graph_Fork\\face_angry\\10065.jpg\n",
      "path_name  c:\\Users\\rodri\\Documents\\Rodrigo\\Insper\\SextoSemestre\\Facial-Emotion-Classification-Graph_Fork\\face_angry\n",
      "emotion  angry\n",
      "c:\\Users\\rodri\\Documents\\Rodrigo\\Insper\\SextoSemestre\\Facial-Emotion-Classification-Graph_Fork\n",
      "save_path  c:\\Users\\rodri\\Documents\\Rodrigo\\Insper\\SextoSemestre\\Facial-Emotion-Classification-Graph_Fork\\angry_adj\n",
      "filename  c:\\Users\\rodri\\Documents\\Rodrigo\\Insper\\SextoSemestre\\Facial-Emotion-Classification-Graph_Fork\\face_angry\\10065\n",
      "c:\\Users\\rodri\\Documents\\Rodrigo\\Insper\\SextoSemestre\\Facial-Emotion-Classification-Graph_Fork\\angry_adj\\10065.npz\n",
      "10069.jpg\n",
      "path c:\\Users\\rodri\\Documents\\Rodrigo\\Insper\\SextoSemestre\\Facial-Emotion-Classification-Graph_Fork\\face_angry\\10069.jpg\n",
      "path_name  c:\\Users\\rodri\\Documents\\Rodrigo\\Insper\\SextoSemestre\\Facial-Emotion-Classification-Graph_Fork\\face_angry\n",
      "emotion  angry\n",
      "c:\\Users\\rodri\\Documents\\Rodrigo\\Insper\\SextoSemestre\\Facial-Emotion-Classification-Graph_Fork\n",
      "save_path  c:\\Users\\rodri\\Documents\\Rodrigo\\Insper\\SextoSemestre\\Facial-Emotion-Classification-Graph_Fork\\angry_adj\n",
      "filename  c:\\Users\\rodri\\Documents\\Rodrigo\\Insper\\SextoSemestre\\Facial-Emotion-Classification-Graph_Fork\\face_angry\\10069\n",
      "c:\\Users\\rodri\\Documents\\Rodrigo\\Insper\\SextoSemestre\\Facial-Emotion-Classification-Graph_Fork\\angry_adj\\10069.npz\n",
      "10079.jpg\n",
      "path c:\\Users\\rodri\\Documents\\Rodrigo\\Insper\\SextoSemestre\\Facial-Emotion-Classification-Graph_Fork\\face_angry\\10079.jpg\n",
      "path_name  c:\\Users\\rodri\\Documents\\Rodrigo\\Insper\\SextoSemestre\\Facial-Emotion-Classification-Graph_Fork\\face_angry\n",
      "emotion  angry\n",
      "c:\\Users\\rodri\\Documents\\Rodrigo\\Insper\\SextoSemestre\\Facial-Emotion-Classification-Graph_Fork\n",
      "save_path  c:\\Users\\rodri\\Documents\\Rodrigo\\Insper\\SextoSemestre\\Facial-Emotion-Classification-Graph_Fork\\angry_adj\n",
      "filename  c:\\Users\\rodri\\Documents\\Rodrigo\\Insper\\SextoSemestre\\Facial-Emotion-Classification-Graph_Fork\\face_angry\\10079\n",
      "c:\\Users\\rodri\\Documents\\Rodrigo\\Insper\\SextoSemestre\\Facial-Emotion-Classification-Graph_Fork\\angry_adj\\10079.npz\n",
      "10095.jpg\n",
      "path c:\\Users\\rodri\\Documents\\Rodrigo\\Insper\\SextoSemestre\\Facial-Emotion-Classification-Graph_Fork\\face_angry\\10095.jpg\n",
      "path_name  c:\\Users\\rodri\\Documents\\Rodrigo\\Insper\\SextoSemestre\\Facial-Emotion-Classification-Graph_Fork\\face_angry\n",
      "emotion  angry\n",
      "c:\\Users\\rodri\\Documents\\Rodrigo\\Insper\\SextoSemestre\\Facial-Emotion-Classification-Graph_Fork\n",
      "save_path  c:\\Users\\rodri\\Documents\\Rodrigo\\Insper\\SextoSemestre\\Facial-Emotion-Classification-Graph_Fork\\angry_adj\n",
      "filename  c:\\Users\\rodri\\Documents\\Rodrigo\\Insper\\SextoSemestre\\Facial-Emotion-Classification-Graph_Fork\\face_angry\\10095\n",
      "c:\\Users\\rodri\\Documents\\Rodrigo\\Insper\\SextoSemestre\\Facial-Emotion-Classification-Graph_Fork\\angry_adj\\10095.npz\n",
      "10100.jpg\n",
      "path c:\\Users\\rodri\\Documents\\Rodrigo\\Insper\\SextoSemestre\\Facial-Emotion-Classification-Graph_Fork\\face_angry\\10100.jpg\n",
      "path_name  c:\\Users\\rodri\\Documents\\Rodrigo\\Insper\\SextoSemestre\\Facial-Emotion-Classification-Graph_Fork\\face_angry\n",
      "emotion  angry\n",
      "c:\\Users\\rodri\\Documents\\Rodrigo\\Insper\\SextoSemestre\\Facial-Emotion-Classification-Graph_Fork\n",
      "save_path  c:\\Users\\rodri\\Documents\\Rodrigo\\Insper\\SextoSemestre\\Facial-Emotion-Classification-Graph_Fork\\angry_adj\n",
      "filename  c:\\Users\\rodri\\Documents\\Rodrigo\\Insper\\SextoSemestre\\Facial-Emotion-Classification-Graph_Fork\\face_angry\\10100\n",
      "c:\\Users\\rodri\\Documents\\Rodrigo\\Insper\\SextoSemestre\\Facial-Emotion-Classification-Graph_Fork\\angry_adj\\10100.npz\n",
      "10105.jpg\n",
      "path c:\\Users\\rodri\\Documents\\Rodrigo\\Insper\\SextoSemestre\\Facial-Emotion-Classification-Graph_Fork\\face_angry\\10105.jpg\n",
      "path_name  c:\\Users\\rodri\\Documents\\Rodrigo\\Insper\\SextoSemestre\\Facial-Emotion-Classification-Graph_Fork\\face_angry\n",
      "emotion  angry\n",
      "c:\\Users\\rodri\\Documents\\Rodrigo\\Insper\\SextoSemestre\\Facial-Emotion-Classification-Graph_Fork\n",
      "save_path  c:\\Users\\rodri\\Documents\\Rodrigo\\Insper\\SextoSemestre\\Facial-Emotion-Classification-Graph_Fork\\angry_adj\n",
      "filename  c:\\Users\\rodri\\Documents\\Rodrigo\\Insper\\SextoSemestre\\Facial-Emotion-Classification-Graph_Fork\\face_angry\\10105\n",
      "c:\\Users\\rodri\\Documents\\Rodrigo\\Insper\\SextoSemestre\\Facial-Emotion-Classification-Graph_Fork\\angry_adj\\10105.npz\n",
      "10115.jpg\n",
      "path c:\\Users\\rodri\\Documents\\Rodrigo\\Insper\\SextoSemestre\\Facial-Emotion-Classification-Graph_Fork\\face_angry\\10115.jpg\n"
     ]
    },
    {
     "ename": "TypeError",
     "evalue": "'NoneType' object is not subscriptable",
     "output_type": "error",
     "traceback": [
      "\u001b[1;31m---------------------------------------------------------------------------\u001b[0m",
      "\u001b[1;31mTypeError\u001b[0m                                 Traceback (most recent call last)",
      "\u001b[1;32mc:\\Users\\rodri\\Documents\\Rodrigo\\Insper\\SextoSemestre\\Facial-Emotion-Classification-Graph_Fork\\GNN\\landmarks_graph.ipynb Cell 15\u001b[0m line \u001b[0;36m8\n\u001b[0;32m      <a href='vscode-notebook-cell:/c%3A/Users/rodri/Documents/Rodrigo/Insper/SextoSemestre/Facial-Emotion-Classification-Graph_Fork/GNN/landmarks_graph.ipynb#X20sZmlsZQ%3D%3D?line=5'>6</a>\u001b[0m path_img \u001b[39m=\u001b[39m angry_path \u001b[39m/\u001b[39m img\n\u001b[0;32m      <a href='vscode-notebook-cell:/c%3A/Users/rodri/Documents/Rodrigo/Insper/SextoSemestre/Facial-Emotion-Classification-Graph_Fork/GNN/landmarks_graph.ipynb#X20sZmlsZQ%3D%3D?line=6'>7</a>\u001b[0m \u001b[39mprint\u001b[39m(\u001b[39m\"\u001b[39m\u001b[39mpath\u001b[39m\u001b[39m\"\u001b[39m,path_img)\n\u001b[1;32m----> <a href='vscode-notebook-cell:/c%3A/Users/rodri/Documents/Rodrigo/Insper/SextoSemestre/Facial-Emotion-Classification-Graph_Fork/GNN/landmarks_graph.ipynb#X20sZmlsZQ%3D%3D?line=7'>8</a>\u001b[0m pipeline(\u001b[39mstr\u001b[39m(path_img), plot\u001b[39m=\u001b[39m\u001b[39mFalse\u001b[39;00m)\n\u001b[0;32m      <a href='vscode-notebook-cell:/c%3A/Users/rodri/Documents/Rodrigo/Insper/SextoSemestre/Facial-Emotion-Classification-Graph_Fork/GNN/landmarks_graph.ipynb#X20sZmlsZQ%3D%3D?line=8'>9</a>\u001b[0m \u001b[39mif\u001b[39;00m count \u001b[39m==\u001b[39m \u001b[39m10\u001b[39m:\n\u001b[0;32m     <a href='vscode-notebook-cell:/c%3A/Users/rodri/Documents/Rodrigo/Insper/SextoSemestre/Facial-Emotion-Classification-Graph_Fork/GNN/landmarks_graph.ipynb#X20sZmlsZQ%3D%3D?line=9'>10</a>\u001b[0m     \u001b[39mbreak\u001b[39;00m\n",
      "\u001b[1;32mc:\\Users\\rodri\\Documents\\Rodrigo\\Insper\\SextoSemestre\\Facial-Emotion-Classification-Graph_Fork\\GNN\\landmarks_graph.ipynb Cell 15\u001b[0m line \u001b[0;36m4\n\u001b[0;32m      <a href='vscode-notebook-cell:/c%3A/Users/rodri/Documents/Rodrigo/Insper/SextoSemestre/Facial-Emotion-Classification-Graph_Fork/GNN/landmarks_graph.ipynb#X20sZmlsZQ%3D%3D?line=1'>2</a>\u001b[0m name \u001b[39m=\u001b[39m img\u001b[39m.\u001b[39msplit(\u001b[39m'\u001b[39m\u001b[39m.\u001b[39m\u001b[39m'\u001b[39m)[\u001b[39m0\u001b[39m]\n\u001b[0;32m      <a href='vscode-notebook-cell:/c%3A/Users/rodri/Documents/Rodrigo/Insper/SextoSemestre/Facial-Emotion-Classification-Graph_Fork/GNN/landmarks_graph.ipynb#X20sZmlsZQ%3D%3D?line=2'>3</a>\u001b[0m frame \u001b[39m=\u001b[39m cv2\u001b[39m.\u001b[39mimread(img)  \u001b[39m# read the image *** change the path to your image\u001b[39;00m\n\u001b[1;32m----> <a href='vscode-notebook-cell:/c%3A/Users/rodri/Documents/Rodrigo/Insper/SextoSemestre/Facial-Emotion-Classification-Graph_Fork/GNN/landmarks_graph.ipynb#X20sZmlsZQ%3D%3D?line=3'>4</a>\u001b[0m results_mesh, mesh_points, scale_factor \u001b[39m=\u001b[39m preprocess_frame(frame)\n\u001b[0;32m      <a href='vscode-notebook-cell:/c%3A/Users/rodri/Documents/Rodrigo/Insper/SextoSemestre/Facial-Emotion-Classification-Graph_Fork/GNN/landmarks_graph.ipynb#X20sZmlsZQ%3D%3D?line=4'>5</a>\u001b[0m graph \u001b[39m=\u001b[39m gera_grafos(results_mesh, mesh_points, scale_factor)\n\u001b[0;32m      <a href='vscode-notebook-cell:/c%3A/Users/rodri/Documents/Rodrigo/Insper/SextoSemestre/Facial-Emotion-Classification-Graph_Fork/GNN/landmarks_graph.ipynb#X20sZmlsZQ%3D%3D?line=5'>6</a>\u001b[0m adjacency_matrix \u001b[39m=\u001b[39m get_matrix_adj(graph)\n",
      "\u001b[1;32mc:\\Users\\rodri\\Documents\\Rodrigo\\Insper\\SextoSemestre\\Facial-Emotion-Classification-Graph_Fork\\GNN\\landmarks_graph.ipynb Cell 15\u001b[0m line \u001b[0;36m5\n\u001b[0;32m      <a href='vscode-notebook-cell:/c%3A/Users/rodri/Documents/Rodrigo/Insper/SextoSemestre/Facial-Emotion-Classification-Graph_Fork/GNN/landmarks_graph.ipynb#X20sZmlsZQ%3D%3D?line=2'>3</a>\u001b[0m rgb_image \u001b[39m=\u001b[39m cv2\u001b[39m.\u001b[39mcvtColor(frame, cv2\u001b[39m.\u001b[39mCOLOR_BGR2RGB)\n\u001b[0;32m      <a href='vscode-notebook-cell:/c%3A/Users/rodri/Documents/Rodrigo/Insper/SextoSemestre/Facial-Emotion-Classification-Graph_Fork/GNN/landmarks_graph.ipynb#X20sZmlsZQ%3D%3D?line=3'>4</a>\u001b[0m results_mesh \u001b[39m=\u001b[39m face_mesh\u001b[39m.\u001b[39mprocess(rgb_image)\n\u001b[1;32m----> <a href='vscode-notebook-cell:/c%3A/Users/rodri/Documents/Rodrigo/Insper/SextoSemestre/Facial-Emotion-Classification-Graph_Fork/GNN/landmarks_graph.ipynb#X20sZmlsZQ%3D%3D?line=4'>5</a>\u001b[0m mesh_points\u001b[39m=\u001b[39mnp\u001b[39m.\u001b[39marray([np\u001b[39m.\u001b[39mmultiply([p\u001b[39m.\u001b[39mx, p\u001b[39m.\u001b[39my], [W, H])\u001b[39m.\u001b[39mastype(\u001b[39mint\u001b[39m) \u001b[39mfor\u001b[39;00m p \u001b[39min\u001b[39;00m results_mesh\u001b[39m.\u001b[39mmulti_face_landmarks[\u001b[39m0\u001b[39m]\u001b[39m.\u001b[39mlandmark])\n\u001b[0;32m      <a href='vscode-notebook-cell:/c%3A/Users/rodri/Documents/Rodrigo/Insper/SextoSemestre/Facial-Emotion-Classification-Graph_Fork/GNN/landmarks_graph.ipynb#X20sZmlsZQ%3D%3D?line=5'>6</a>\u001b[0m nose_tip \u001b[39m=\u001b[39m mesh_points[\u001b[39m4\u001b[39m]\n\u001b[0;32m      <a href='vscode-notebook-cell:/c%3A/Users/rodri/Documents/Rodrigo/Insper/SextoSemestre/Facial-Emotion-Classification-Graph_Fork/GNN/landmarks_graph.ipynb#X20sZmlsZQ%3D%3D?line=6'>7</a>\u001b[0m forehead \u001b[39m=\u001b[39m mesh_points[\u001b[39m151\u001b[39m]\n",
      "\u001b[1;31mTypeError\u001b[0m: 'NoneType' object is not subscriptable"
     ]
    }
   ],
   "source": [
    "count = 0\n",
    "for img in angry_files:\n",
    "    if img.endswith('.jpg'):\n",
    "    print(img)\n",
    "    # img = cv2.imread(str(angry_path / img))\n",
    "    path_img = angry_path / img\n",
    "    print(\"path\",path_img)\n",
    "    pipeline(str(path_img), plot=False)\n",
    "    if count == 10:\n",
    "        break"
   ]
  }
 ],
 "metadata": {
  "kernelspec": {
   "display_name": "Python 3",
   "language": "python",
   "name": "python3"
  },
  "language_info": {
   "codemirror_mode": {
    "name": "ipython",
    "version": 3
   },
   "file_extension": ".py",
   "mimetype": "text/x-python",
   "name": "python",
   "nbconvert_exporter": "python",
   "pygments_lexer": "ipython3",
   "version": "3.11.4"
  }
 },
 "nbformat": 4,
 "nbformat_minor": 2
}
