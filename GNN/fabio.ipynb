{
 "cells": [
  {
   "cell_type": "code",
   "execution_count": 1,
   "metadata": {},
   "outputs": [],
   "source": [
    "import pathlib\n",
    "\n",
    "import cv2\n",
    "import mediapipe as mp\n",
    "import networkx as nx\n",
    "import numpy as np\n",
    "import scipy.sparse\n",
    "\n",
    "from utils import *"
   ]
  },
  {
   "cell_type": "code",
   "execution_count": 2,
   "metadata": {},
   "outputs": [],
   "source": [
    "adjacency_matrix = get_mediapipe_adjacency_matrix()"
   ]
  },
  {
   "cell_type": "code",
   "execution_count": 3,
   "metadata": {},
   "outputs": [
    {
     "data": {
      "text/plain": [
       "(478, 478)"
      ]
     },
     "execution_count": 3,
     "metadata": {},
     "output_type": "execute_result"
    }
   ],
   "source": [
    "adjacency_matrix.shape"
   ]
  },
  {
   "cell_type": "code",
   "execution_count": 3,
   "metadata": {},
   "outputs": [],
   "source": [
    "current_path = pathlib.Path().absolute()\n",
    "path = current_path.parent\n",
    "\n",
    "angry_path = path / 'face_angry'\n",
    "disgusted_path = path / 'face_disgusted'\n",
    "happy_path = path / 'face_happy'\n",
    "neutral_path = path / 'face_neutral'\n",
    "sad_path = path / 'face_sad'\n",
    "surprised_path = path / 'face_surprised'\n",
    "\n",
    "path_list = [angry_path, disgusted_path, happy_path, neutral_path, sad_path, surprised_path]"
   ]
  },
  {
   "cell_type": "code",
   "execution_count": 4,
   "metadata": {},
   "outputs": [
    {
     "ename": "KeyboardInterrupt",
     "evalue": "",
     "output_type": "error",
     "traceback": [
      "\u001b[1;31m---------------------------------------------------------------------------\u001b[0m",
      "\u001b[1;31mKeyboardInterrupt\u001b[0m                         Traceback (most recent call last)",
      "\u001b[1;32mc:\\Users\\rodri\\Documents\\Rodrigo\\Insper\\SextoSemestre\\Facial-Emotion-Classification-Graph_Fork\\GNN\\fabio.ipynb Cell 4\u001b[0m line \u001b[0;36m1\n\u001b[0;32m      <a href='vscode-notebook-cell:/c%3A/Users/rodri/Documents/Rodrigo/Insper/SextoSemestre/Facial-Emotion-Classification-Graph_Fork/GNN/fabio.ipynb#W4sZmlsZQ%3D%3D?line=7'>8</a>\u001b[0m     \u001b[39mcontinue\u001b[39;00m\n\u001b[0;32m     <a href='vscode-notebook-cell:/c%3A/Users/rodri/Documents/Rodrigo/Insper/SextoSemestre/Facial-Emotion-Classification-Graph_Fork/GNN/fabio.ipynb#W4sZmlsZQ%3D%3D?line=9'>10</a>\u001b[0m results_mesh, mesh_points, scale_factor \u001b[39m=\u001b[39m preprocess_frame(rgb_image)\n\u001b[1;32m---> <a href='vscode-notebook-cell:/c%3A/Users/rodri/Documents/Rodrigo/Insper/SextoSemestre/Facial-Emotion-Classification-Graph_Fork/GNN/fabio.ipynb#W4sZmlsZQ%3D%3D?line=11'>12</a>\u001b[0m name \u001b[39m=\u001b[39m emotion_path \u001b[39m/\u001b[39m path_img\u001b[39m.\u001b[39mstem\n\u001b[0;32m     <a href='vscode-notebook-cell:/c%3A/Users/rodri/Documents/Rodrigo/Insper/SextoSemestre/Facial-Emotion-Classification-Graph_Fork/GNN/fabio.ipynb#W4sZmlsZQ%3D%3D?line=12'>13</a>\u001b[0m save_meshpoints(mesh_points, name)\n\u001b[0;32m     <a href='vscode-notebook-cell:/c%3A/Users/rodri/Documents/Rodrigo/Insper/SextoSemestre/Facial-Emotion-Classification-Graph_Fork/GNN/fabio.ipynb#W4sZmlsZQ%3D%3D?line=14'>15</a>\u001b[0m img_count \u001b[39m+\u001b[39m\u001b[39m=\u001b[39m \u001b[39m1\u001b[39m\n",
      "\u001b[1;32mc:\\Users\\rodri\\Documents\\Rodrigo\\Insper\\SextoSemestre\\Facial-Emotion-Classification-Graph_Fork\\GNN\\fabio.ipynb Cell 4\u001b[0m line \u001b[0;36m1\n\u001b[0;32m      <a href='vscode-notebook-cell:/c%3A/Users/rodri/Documents/Rodrigo/Insper/SextoSemestre/Facial-Emotion-Classification-Graph_Fork/GNN/fabio.ipynb#W4sZmlsZQ%3D%3D?line=7'>8</a>\u001b[0m     \u001b[39mcontinue\u001b[39;00m\n\u001b[0;32m     <a href='vscode-notebook-cell:/c%3A/Users/rodri/Documents/Rodrigo/Insper/SextoSemestre/Facial-Emotion-Classification-Graph_Fork/GNN/fabio.ipynb#W4sZmlsZQ%3D%3D?line=9'>10</a>\u001b[0m results_mesh, mesh_points, scale_factor \u001b[39m=\u001b[39m preprocess_frame(rgb_image)\n\u001b[1;32m---> <a href='vscode-notebook-cell:/c%3A/Users/rodri/Documents/Rodrigo/Insper/SextoSemestre/Facial-Emotion-Classification-Graph_Fork/GNN/fabio.ipynb#W4sZmlsZQ%3D%3D?line=11'>12</a>\u001b[0m name \u001b[39m=\u001b[39m emotion_path \u001b[39m/\u001b[39m path_img\u001b[39m.\u001b[39mstem\n\u001b[0;32m     <a href='vscode-notebook-cell:/c%3A/Users/rodri/Documents/Rodrigo/Insper/SextoSemestre/Facial-Emotion-Classification-Graph_Fork/GNN/fabio.ipynb#W4sZmlsZQ%3D%3D?line=12'>13</a>\u001b[0m save_meshpoints(mesh_points, name)\n\u001b[0;32m     <a href='vscode-notebook-cell:/c%3A/Users/rodri/Documents/Rodrigo/Insper/SextoSemestre/Facial-Emotion-Classification-Graph_Fork/GNN/fabio.ipynb#W4sZmlsZQ%3D%3D?line=14'>15</a>\u001b[0m img_count \u001b[39m+\u001b[39m\u001b[39m=\u001b[39m \u001b[39m1\u001b[39m\n",
      "File \u001b[1;32m_pydevd_bundle/pydevd_cython.pyx:1457\u001b[0m, in \u001b[0;36m_pydevd_bundle.pydevd_cython.SafeCallWrapper.__call__\u001b[1;34m()\u001b[0m\n",
      "File \u001b[1;32m_pydevd_bundle/pydevd_cython.pyx:701\u001b[0m, in \u001b[0;36m_pydevd_bundle.pydevd_cython.PyDBFrame.trace_dispatch\u001b[1;34m()\u001b[0m\n",
      "File \u001b[1;32m_pydevd_bundle/pydevd_cython.pyx:1395\u001b[0m, in \u001b[0;36m_pydevd_bundle.pydevd_cython.PyDBFrame.trace_dispatch\u001b[1;34m()\u001b[0m\n",
      "File \u001b[1;32m_pydevd_bundle/pydevd_cython.pyx:1344\u001b[0m, in \u001b[0;36m_pydevd_bundle.pydevd_cython.PyDBFrame.trace_dispatch\u001b[1;34m()\u001b[0m\n",
      "File \u001b[1;32m_pydevd_bundle/pydevd_cython.pyx:312\u001b[0m, in \u001b[0;36m_pydevd_bundle.pydevd_cython.PyDBFrame.do_wait_suspend\u001b[1;34m()\u001b[0m\n",
      "File \u001b[1;32mc:\\Users\\rodri\\anaconda3\\envs\\mirror\\Lib\\site-packages\\debugpy\\_vendored\\pydevd\\pydevd.py:2070\u001b[0m, in \u001b[0;36mPyDB.do_wait_suspend\u001b[1;34m(self, thread, frame, event, arg, exception_type)\u001b[0m\n\u001b[0;32m   2067\u001b[0m             from_this_thread\u001b[39m.\u001b[39mappend(frame_custom_thread_id)\n\u001b[0;32m   2069\u001b[0m     \u001b[39mwith\u001b[39;00m \u001b[39mself\u001b[39m\u001b[39m.\u001b[39m_threads_suspended_single_notification\u001b[39m.\u001b[39mnotify_thread_suspended(thread_id, thread, stop_reason):\n\u001b[1;32m-> 2070\u001b[0m         keep_suspended \u001b[39m=\u001b[39m \u001b[39mself\u001b[39m\u001b[39m.\u001b[39m_do_wait_suspend(thread, frame, event, arg, suspend_type, from_this_thread, frames_tracker)\n\u001b[0;32m   2072\u001b[0m frames_list \u001b[39m=\u001b[39m \u001b[39mNone\u001b[39;00m\n\u001b[0;32m   2074\u001b[0m \u001b[39mif\u001b[39;00m keep_suspended:\n\u001b[0;32m   2075\u001b[0m     \u001b[39m# This means that we should pause again after a set next statement.\u001b[39;00m\n",
      "File \u001b[1;32mc:\\Users\\rodri\\anaconda3\\envs\\mirror\\Lib\\site-packages\\debugpy\\_vendored\\pydevd\\pydevd.py:2106\u001b[0m, in \u001b[0;36mPyDB._do_wait_suspend\u001b[1;34m(self, thread, frame, event, arg, suspend_type, from_this_thread, frames_tracker)\u001b[0m\n\u001b[0;32m   2103\u001b[0m         \u001b[39mself\u001b[39m\u001b[39m.\u001b[39m_call_input_hook()\n\u001b[0;32m   2105\u001b[0m     \u001b[39mself\u001b[39m\u001b[39m.\u001b[39mprocess_internal_commands()\n\u001b[1;32m-> 2106\u001b[0m     time\u001b[39m.\u001b[39msleep(\u001b[39m0.01\u001b[39m)\n\u001b[0;32m   2108\u001b[0m \u001b[39mself\u001b[39m\u001b[39m.\u001b[39mcancel_async_evaluation(get_current_thread_id(thread), \u001b[39mstr\u001b[39m(\u001b[39mid\u001b[39m(frame)))\n\u001b[0;32m   2110\u001b[0m \u001b[39m# process any stepping instructions\u001b[39;00m\n",
      "\u001b[1;31mKeyboardInterrupt\u001b[0m: "
     ]
    }
   ],
   "source": [
    "for emotion_path in path_list:\n",
    "    error_count = 0\n",
    "    img_count = 1\n",
    "    for path_img in emotion_path.iterdir():\n",
    "        try:\n",
    "            rgb_image = cv2.imread(str(path_img))\n",
    "            if rgb_image is None:\n",
    "                continue\n",
    "\n",
    "            results_mesh, mesh_points, scale_factor = preprocess_frame(rgb_image)\n",
    "\n",
    "            name = emotion_path / path_img.stem\n",
    "            save_meshpoints(mesh_points, name)\n",
    "\n",
    "            img_count += 1\n",
    "        except Exception as e:\n",
    "            error_count += 1\n",
    "    print('errors', error_count)"
   ]
  },
  {
   "cell_type": "code",
   "execution_count": null,
   "metadata": {},
   "outputs": [],
   "source": []
  }
 ],
 "metadata": {
  "kernelspec": {
   "display_name": "mirror",
   "language": "python",
   "name": "python3"
  },
  "language_info": {
   "codemirror_mode": {
    "name": "ipython",
    "version": 3
   },
   "file_extension": ".py",
   "mimetype": "text/x-python",
   "name": "python",
   "nbconvert_exporter": "python",
   "pygments_lexer": "ipython3",
   "version": "3.11.4"
  }
 },
 "nbformat": 4,
 "nbformat_minor": 2
}
