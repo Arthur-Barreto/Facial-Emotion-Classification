{
 "cells": [
  {
   "cell_type": "code",
   "execution_count": 68,
   "metadata": {},
   "outputs": [],
   "source": [
    "import numpy as np\n",
    "import cv2\n",
    "import mediapipe as mp\n",
    "import pandas as pd\n",
    "import os\n",
    "import math"
   ]
  },
  {
   "cell_type": "code",
   "execution_count": 69,
   "metadata": {},
   "outputs": [],
   "source": [
    "mp_face_mes = mp.solutions.face_mesh\n",
    "mp_drawing = mp.solutions.drawing_utils\n",
    "drawing_spec = mp_drawing.DrawingSpec(thickness=1, circle_radius=1)\n",
    "face_mesh = mp_face_mes.FaceMesh(max_num_faces=1, refine_landmarks=True, min_detection_confidence=0.5, min_tracking_confidence=0.5)"
   ]
  },
  {
   "cell_type": "code",
   "execution_count": 70,
   "metadata": {},
   "outputs": [
    {
     "name": "stdout",
     "output_type": "stream",
     "text": [
      "909 1461 1448 1263\n"
     ]
    }
   ],
   "source": [
    "images_wide = os.listdir('eye_wide') #Warning: in all images, BOTH eyes must be wide open\n",
    "images_open = os.listdir('eye_open') #Warning: in all images, BOTH eyes must be open\n",
    "images_narrowed = os.listdir('eye_narrowed') #Warning: in all images, BOTH eyes must be narrowed\n",
    "images_closed = os.listdir('eye_closed') #Warning: in all images, BOTH eyes must be closed\n",
    "\n",
    "print(len(images_wide), len(images_open), len(images_narrowed), len(images_closed))"
   ]
  },
  {
   "cell_type": "code",
   "execution_count": 71,
   "metadata": {},
   "outputs": [],
   "source": [
    "def update_mesh_points(image):\n",
    "    try:\n",
    "        frame = image.copy()\n",
    "    except AttributeError:\n",
    "        return None\n",
    "    H, W, _ = frame.shape\n",
    "    results_mesh = face_mesh.process(frame)\n",
    "    if results_mesh.multi_face_landmarks:\n",
    "        mesh_points = np.array([np.multiply([p.x, p.y, p.z], [W, H, max(W, H)]).astype(int) for p in results_mesh.multi_face_landmarks[0].landmark])\n",
    "        return mesh_points\n",
    "    return None"
   ]
  },
  {
   "cell_type": "code",
   "execution_count": 72,
   "metadata": {},
   "outputs": [],
   "source": [
    "RIGHT_EYE = [362, 382, 381, 380, 374, 373, 390, 249, 263, 466, 388, 387, 386, 385, 384, 398, 362]\n",
    "LEFT_EYE = [33, 7, 163, 144, 145, 153, 154, 155, 133, 173, 157, 158, 159, 160, 161, 246, 33]\n",
    "\n",
    "def calculate_sclera_area(mesh_points):\n",
    "    lex1, lex2 = mesh_points[33], mesh_points[133]\n",
    "    rex1, rex2 = mesh_points[362], mesh_points[263]\n",
    "    area_sclera_left = 0\n",
    "    area_sclera_right = 0\n",
    "    for i in range(len(LEFT_EYE) - 1):\n",
    "        area_sclera_left += (mesh_points[LEFT_EYE[i], 0] * mesh_points[LEFT_EYE[i + 1], 1]) - (mesh_points[LEFT_EYE[i + 1], 0] * mesh_points[LEFT_EYE[i], 1])\n",
    "    for i in range(len(RIGHT_EYE) - 1):\n",
    "        area_sclera_right += (mesh_points[RIGHT_EYE[i], 0] * mesh_points[RIGHT_EYE[i + 1], 1]) - (mesh_points[RIGHT_EYE[i + 1], 0] * mesh_points[RIGHT_EYE[i], 1])\n",
    "    area_sclera_left = abs(area_sclera_left / (2*(math.sqrt((lex1[0]-lex2[0])**2 + (lex1[1]-lex2[1])**2)**2)))\n",
    "    area_sclera_right = abs(area_sclera_right / (2*(math.sqrt((rex1[0]-rex2[0])**2 + (rex1[1]-rex2[1])**2)**2)))\n",
    "    return area_sclera_left, area_sclera_right\n",
    "\n",
    "def calculate_width_over_height(mesh_points):\n",
    "    lex1 = mesh_points[33]\n",
    "    lex2 = mesh_points[133]\n",
    "    rex1 = mesh_points[362]\n",
    "    rex2 = mesh_points[263]\n",
    "    ley1 = mesh_points[159]\n",
    "    ley2 = mesh_points[145]\n",
    "    rey1 = mesh_points[386]\n",
    "    rey2 = mesh_points[374]\n",
    "    try:\n",
    "        reason_left = math.sqrt((lex1[0]-lex2[0])**2+(lex1[1]-lex2[1])**2+(lex1[2]-lex2[2])**2)/math.sqrt((ley1[0]-ley2[0])**2+(ley1[1]-ley2[1])**2+(ley1[2]-ley2[2])**2)\n",
    "        if reason_left > 20: reason_left = 20\n",
    "    except ZeroDivisionError:\n",
    "        reason_left = 20\n",
    "    try:\n",
    "        reason_right = math.sqrt((rex1[0]-rex2[0])**2+(rex1[1]-rex2[1])**2+(rex1[2]-rex2[2])**2)/math.sqrt((rey1[0]-rey2[0])**2+(rey1[1]-rey2[1])**2+(rey1[2]-rey2[2])**2)\n",
    "        if reason_right > 20: reason_right = 20\n",
    "    except ZeroDivisionError:\n",
    "        reason_right = 20\n",
    "    return reason_left, reason_right\n",
    "\n",
    "def get_features(frame):\n",
    "    mesh_points = update_mesh_points(frame)\n",
    "    if mesh_points is None:\n",
    "        return None\n",
    "    area_sclera_left, area_sclera_right = calculate_sclera_area(mesh_points)\n",
    "    reason_left, reason_right = calculate_width_over_height(mesh_points)\n",
    "    return (area_sclera_left, area_sclera_right, reason_left, reason_right)"
   ]
  },
  {
   "cell_type": "code",
   "execution_count": 73,
   "metadata": {},
   "outputs": [],
   "source": [
    "def resize_if_too_small(photo):\n",
    "    if photo.shape[0] < 300 and photo.shape[1] < 300:\n",
    "        photo = cv2.resize(photo, (300, 300), interpolation = cv2.INTER_CUBIC)\n",
    "    return photo"
   ]
  },
  {
   "cell_type": "code",
   "execution_count": 74,
   "metadata": {},
   "outputs": [
    {
     "name": "stdout",
     "output_type": "stream",
     "text": [
      "Processing wide images...\n"
     ]
    },
    {
     "name": "stdout",
     "output_type": "stream",
     "text": [
      "Processing open images...\n",
      "Processing narrowed images...\n",
      "Processing closed images...\n"
     ]
    }
   ],
   "source": [
    "results_wide = []\n",
    "results_open = []\n",
    "results_narrowed = []\n",
    "results_closed = []\n",
    "\n",
    "print('Processing wide images...')\n",
    "for image in images_wide:\n",
    "    frame = cv2.imread('eye_wide/'+image)\n",
    "    if frame is None:\n",
    "        continue\n",
    "    frame = resize_if_too_small(frame)\n",
    "    result = get_features(frame)\n",
    "    if result:\n",
    "        results_wide.append((result[0], result[2]))\n",
    "        results_wide.append((result[1], result[3]))\n",
    "\n",
    "print('Processing open images...')\n",
    "for image in images_open:\n",
    "    frame = cv2.imread('eye_open/'+image)\n",
    "    if frame is None:\n",
    "        continue\n",
    "    frame = resize_if_too_small(frame)\n",
    "    result = get_features(frame)\n",
    "    if result:\n",
    "        results_open.append((result[0], result[2]))\n",
    "        results_open.append((result[1], result[3]))\n",
    "\n",
    "print('Processing narrowed images...')\n",
    "for image in images_narrowed:\n",
    "    frame = cv2.imread('eye_narrowed/'+image)\n",
    "    if frame is None:\n",
    "        continue\n",
    "    frame = resize_if_too_small(frame)\n",
    "    result = get_features(frame)\n",
    "    if result:\n",
    "        results_narrowed.append((result[0], result[2]))\n",
    "        results_narrowed.append((result[1], result[3]))\n",
    "\n",
    "print('Processing closed images...')\n",
    "for image in images_closed:\n",
    "    frame = cv2.imread('eye_closed/'+image)\n",
    "    if frame is None:\n",
    "        continue\n",
    "    frame = resize_if_too_small(frame)\n",
    "    result = get_features(frame)\n",
    "    if result:\n",
    "        results_closed.append((result[0], result[2]))\n",
    "        results_closed.append((result[1], result[3]))"
   ]
  },
  {
   "cell_type": "code",
   "execution_count": 75,
   "metadata": {},
   "outputs": [
    {
     "name": "stdout",
     "output_type": "stream",
     "text": [
      "1616 2740 1958 2460\n"
     ]
    }
   ],
   "source": [
    "print(len(results_wide), len(results_open), len(results_narrowed), len(results_closed))"
   ]
  },
  {
   "cell_type": "code",
   "execution_count": 76,
   "metadata": {},
   "outputs": [],
   "source": [
    "results_wide = np.array(results_wide)\n",
    "results_open = np.array(results_open)\n",
    "results_narrowed = np.array(results_narrowed)\n",
    "results_closed = np.array(results_closed)"
   ]
  },
  {
   "cell_type": "code",
   "execution_count": 77,
   "metadata": {},
   "outputs": [
    {
     "name": "stdout",
     "output_type": "stream",
     "text": [
      "<class 'pandas.core.frame.DataFrame'>\n",
      "Index: 8774 entries, 0 to 8773\n",
      "Data columns (total 3 columns):\n",
      " #   Column                  Non-Null Count  Dtype  \n",
      "---  ------                  --------------  -----  \n",
      " 0   normalized_sclera_area  8774 non-null   float64\n",
      " 1   width_over_height       8774 non-null   float64\n",
      " 2   label                   8774 non-null   object \n",
      "dtypes: float64(2), object(1)\n",
      "memory usage: 274.2+ KB\n"
     ]
    }
   ],
   "source": [
    "df = pd.DataFrame(columns=['normalized_sclera_area', 'width_over_height', 'label'])\n",
    "\n",
    "for value in results_wide:\n",
    "    df.loc[len(df)] = {'normalized_sclera_area': value[0], 'width_over_height': value[1], 'label': 'wide'}\n",
    "for value in results_open:\n",
    "    df.loc[len(df)] = {'normalized_sclera_area': value[0], 'width_over_height': value[1], 'label': 'open'}\n",
    "for value in results_narrowed:\n",
    "    df.loc[len(df)] = {'normalized_sclera_area': value[0], 'width_over_height': value[1], 'label': 'narrowed'}\n",
    "for value in results_closed:\n",
    "    df.loc[len(df)] = {'normalized_sclera_area': value[0], 'width_over_height': value[1], 'label': 'closed'}\n",
    "\n",
    "df.info()"
   ]
  },
  {
   "cell_type": "code",
   "execution_count": 78,
   "metadata": {},
   "outputs": [
    {
     "data": {
      "text/html": [
       "<div>\n",
       "<style scoped>\n",
       "    .dataframe tbody tr th:only-of-type {\n",
       "        vertical-align: middle;\n",
       "    }\n",
       "\n",
       "    .dataframe tbody tr th {\n",
       "        vertical-align: top;\n",
       "    }\n",
       "\n",
       "    .dataframe thead th {\n",
       "        text-align: right;\n",
       "    }\n",
       "</style>\n",
       "<table border=\"1\" class=\"dataframe\">\n",
       "  <thead>\n",
       "    <tr style=\"text-align: right;\">\n",
       "      <th></th>\n",
       "      <th>normalized_sclera_area</th>\n",
       "      <th>width_over_height</th>\n",
       "      <th>label</th>\n",
       "    </tr>\n",
       "  </thead>\n",
       "  <tbody>\n",
       "    <tr>\n",
       "      <th>0</th>\n",
       "      <td>0.337145</td>\n",
       "      <td>2.049031</td>\n",
       "      <td>wide</td>\n",
       "    </tr>\n",
       "    <tr>\n",
       "      <th>1</th>\n",
       "      <td>0.242546</td>\n",
       "      <td>2.705165</td>\n",
       "      <td>wide</td>\n",
       "    </tr>\n",
       "    <tr>\n",
       "      <th>2</th>\n",
       "      <td>0.303419</td>\n",
       "      <td>2.214134</td>\n",
       "      <td>wide</td>\n",
       "    </tr>\n",
       "    <tr>\n",
       "      <th>3</th>\n",
       "      <td>0.306884</td>\n",
       "      <td>2.145044</td>\n",
       "      <td>wide</td>\n",
       "    </tr>\n",
       "    <tr>\n",
       "      <th>4</th>\n",
       "      <td>0.283548</td>\n",
       "      <td>2.275349</td>\n",
       "      <td>wide</td>\n",
       "    </tr>\n",
       "    <tr>\n",
       "      <th>...</th>\n",
       "      <td>...</td>\n",
       "      <td>...</td>\n",
       "      <td>...</td>\n",
       "    </tr>\n",
       "    <tr>\n",
       "      <th>8769</th>\n",
       "      <td>0.004560</td>\n",
       "      <td>20.000000</td>\n",
       "      <td>closed</td>\n",
       "    </tr>\n",
       "    <tr>\n",
       "      <th>8770</th>\n",
       "      <td>0.004815</td>\n",
       "      <td>5.608587</td>\n",
       "      <td>closed</td>\n",
       "    </tr>\n",
       "    <tr>\n",
       "      <th>8771</th>\n",
       "      <td>0.011204</td>\n",
       "      <td>4.744976</td>\n",
       "      <td>closed</td>\n",
       "    </tr>\n",
       "    <tr>\n",
       "      <th>8772</th>\n",
       "      <td>0.059252</td>\n",
       "      <td>9.084570</td>\n",
       "      <td>closed</td>\n",
       "    </tr>\n",
       "    <tr>\n",
       "      <th>8773</th>\n",
       "      <td>0.057513</td>\n",
       "      <td>5.816149</td>\n",
       "      <td>closed</td>\n",
       "    </tr>\n",
       "  </tbody>\n",
       "</table>\n",
       "<p>8774 rows × 3 columns</p>\n",
       "</div>"
      ],
      "text/plain": [
       "      normalized_sclera_area  width_over_height   label\n",
       "0                   0.337145           2.049031    wide\n",
       "1                   0.242546           2.705165    wide\n",
       "2                   0.303419           2.214134    wide\n",
       "3                   0.306884           2.145044    wide\n",
       "4                   0.283548           2.275349    wide\n",
       "...                      ...                ...     ...\n",
       "8769                0.004560          20.000000  closed\n",
       "8770                0.004815           5.608587  closed\n",
       "8771                0.011204           4.744976  closed\n",
       "8772                0.059252           9.084570  closed\n",
       "8773                0.057513           5.816149  closed\n",
       "\n",
       "[8774 rows x 3 columns]"
      ]
     },
     "execution_count": 78,
     "metadata": {},
     "output_type": "execute_result"
    }
   ],
   "source": [
    "df"
   ]
  },
  {
   "cell_type": "code",
   "execution_count": 79,
   "metadata": {},
   "outputs": [],
   "source": [
    "df.to_json('data.json', index=False)"
   ]
  }
 ],
 "metadata": {
  "kernelspec": {
   "display_name": "Python 3",
   "language": "python",
   "name": "python3"
  },
  "language_info": {
   "codemirror_mode": {
    "name": "ipython",
    "version": 3
   },
   "file_extension": ".py",
   "mimetype": "text/x-python",
   "name": "python",
   "nbconvert_exporter": "python",
   "pygments_lexer": "ipython3",
   "version": "3.11.0"
  },
  "orig_nbformat": 4
 },
 "nbformat": 4,
 "nbformat_minor": 2
}
