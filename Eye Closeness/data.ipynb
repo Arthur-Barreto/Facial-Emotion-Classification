{
 "cells": [
  {
   "cell_type": "code",
   "execution_count": 72,
   "metadata": {},
   "outputs": [],
   "source": [
    "import numpy as np\n",
    "import cv2\n",
    "import mediapipe as mp\n",
    "import pandas as pd\n",
    "import os\n",
    "import math"
   ]
  },
  {
   "cell_type": "code",
   "execution_count": 73,
   "metadata": {},
   "outputs": [],
   "source": [
    "mp_face_mes = mp.solutions.face_mesh\n",
    "mp_drawing = mp.solutions.drawing_utils\n",
    "drawing_spec = mp_drawing.DrawingSpec(thickness=1, circle_radius=1)\n",
    "face_mesh = mp_face_mes.FaceMesh(max_num_faces=1, refine_landmarks=True, min_detection_confidence=0.5, min_tracking_confidence=0.5)"
   ]
  },
  {
   "cell_type": "code",
   "execution_count": 74,
   "metadata": {},
   "outputs": [
    {
     "name": "stdout",
     "output_type": "stream",
     "text": [
      "909 1461 1448 1263\n"
     ]
    }
   ],
   "source": [
    "images_wide = os.listdir('eye_wide') #Warning: in all images, BOTH eyes must be wide open\n",
    "images_open = os.listdir('eye_open') #Warning: in all images, BOTH eyes must be open\n",
    "images_narrowed = os.listdir('eye_narrowed') #Warning: in all images, BOTH eyes must be narrowed\n",
    "images_closed = os.listdir('eye_closed') #Warning: in all images, BOTH eyes must be closed\n",
    "\n",
    "print(len(images_wide), len(images_open), len(images_narrowed), len(images_closed))"
   ]
  },
  {
   "cell_type": "code",
   "execution_count": 75,
   "metadata": {},
   "outputs": [],
   "source": [
    "def calculate_roll_angle(landmarks):\n",
    "    left_ear_x = landmarks[234].x\n",
    "    left_ear_y = landmarks[234].y\n",
    "    right_ear_x = landmarks[454].x\n",
    "    right_ear_y = landmarks[454].y\n",
    "    angle_rad = math.atan2(right_ear_y - left_ear_y, right_ear_x - left_ear_x)\n",
    "    angle_deg = math.degrees(angle_rad)\n",
    "    return angle_deg\n",
    "\n",
    "def compensate_head_roll(frame, results_mesh, W, H):\n",
    "    roll_angle_deg = calculate_roll_angle(results_mesh.multi_face_landmarks[0].landmark)\n",
    "    M = cv2.getRotationMatrix2D((W/2, H/2), roll_angle_deg, 1)\n",
    "    frame = cv2.warpAffine(frame, M, (W, H))\n",
    "    return frame"
   ]
  },
  {
   "cell_type": "code",
   "execution_count": 76,
   "metadata": {},
   "outputs": [],
   "source": [
    "def update_mesh_points(image):\n",
    "    try:\n",
    "        frame = image.copy()\n",
    "    except AttributeError:\n",
    "        return None\n",
    "    H, W, _ = frame.shape\n",
    "    results_mesh_local = face_mesh.process(frame)\n",
    "    if results_mesh_local.multi_face_landmarks:\n",
    "        frame = compensate_head_roll(frame, results_mesh_local, W, H)\n",
    "        results_mesh = face_mesh.process(frame)\n",
    "        if results_mesh.multi_face_landmarks:\n",
    "            mesh_points = np.array([np.multiply([p.x, p.y], [W, H]).astype(int) for p in results_mesh.multi_face_landmarks[0].landmark])\n",
    "            for point in mesh_points:\n",
    "                cv2.circle(frame, tuple(point), 1, (0, 255, 0), -1)\n",
    "            return mesh_points\n",
    "    return None"
   ]
  },
  {
   "cell_type": "code",
   "execution_count": 77,
   "metadata": {},
   "outputs": [],
   "source": [
    "RIGHT_EYE = [362, 382, 381, 380, 374, 373, 390, 249, 263, 466, 388, 387, 386, 385, 384, 398, 362]\n",
    "LEFT_EYE = [33, 7, 163, 144, 145, 153, 154, 155, 133, 173, 157, 158, 159, 160, 161, 246, 33]\n",
    "\n",
    "def calculate_sclera_area(mesh_points):\n",
    "    lex1, lex2 = mesh_points[33, 0], mesh_points[133, 0]\n",
    "    rex1, rex2 = mesh_points[362, 0], mesh_points[263, 0]\n",
    "    area_sclera_left = 0\n",
    "    area_sclera_right = 0\n",
    "    for i in range(len(LEFT_EYE) - 1):\n",
    "        area_sclera_left += (mesh_points[LEFT_EYE[i], 0] * mesh_points[LEFT_EYE[i + 1], 1]) - (mesh_points[LEFT_EYE[i + 1], 0] * mesh_points[LEFT_EYE[i], 1])\n",
    "    for i in range(len(RIGHT_EYE) - 1):\n",
    "        area_sclera_right += (mesh_points[RIGHT_EYE[i], 0] * mesh_points[RIGHT_EYE[i + 1], 1]) - (mesh_points[RIGHT_EYE[i + 1], 0] * mesh_points[RIGHT_EYE[i], 1])\n",
    "    area_sclera_left = abs(area_sclera_left / (2*(abs(lex1 - lex2)**2)))\n",
    "    area_sclera_right = abs(area_sclera_right / (2*(abs(rex1 - rex2)**2)))\n",
    "    return area_sclera_left, area_sclera_right\n",
    "\n",
    "def calculate_width_over_height(mesh_points):\n",
    "    lex1 = mesh_points[33][0]\n",
    "    lex2 = mesh_points[133][0]\n",
    "    rex1 = mesh_points[362][0]\n",
    "    rex2 = mesh_points[263][0]\n",
    "    ley1 = mesh_points[159][1]\n",
    "    ley2 = mesh_points[145][1]\n",
    "    rey1 = mesh_points[386][1]\n",
    "    rey2 = mesh_points[374][1]\n",
    "    reason_left = abs(lex1-lex2)/abs(ley1-ley2)\n",
    "    reason_right = abs(rex1-rex2)/abs(rey1-rey2)\n",
    "    if reason_left > 20: reason_left = 20\n",
    "    if reason_right > 20: reason_right = 20\n",
    "    return reason_left, reason_right\n",
    "\n",
    "def get_features(frame):\n",
    "    mesh_points = update_mesh_points(frame)\n",
    "    if mesh_points is None:\n",
    "        return None\n",
    "    area_sclera_left, area_sclera_right = calculate_sclera_area(mesh_points)\n",
    "    reason_left, reason_right = calculate_width_over_height(mesh_points)\n",
    "    return (area_sclera_left, area_sclera_right, reason_left, reason_right)"
   ]
  },
  {
   "cell_type": "code",
   "execution_count": 78,
   "metadata": {},
   "outputs": [],
   "source": [
    "def resize_if_too_small(photo):\n",
    "    if photo.shape[0] < 300 and photo.shape[1] < 300:\n",
    "        photo = cv2.resize(photo, (300, 300), interpolation = cv2.INTER_CUBIC)\n",
    "    return photo"
   ]
  },
  {
   "cell_type": "code",
   "execution_count": 79,
   "metadata": {},
   "outputs": [
    {
     "name": "stdout",
     "output_type": "stream",
     "text": [
      "Processing wide images...\n"
     ]
    },
    {
     "name": "stderr",
     "output_type": "stream",
     "text": [
      "c:\\Users\\felip\\AppData\\Local\\Programs\\Python\\Python311\\Lib\\site-packages\\google\\protobuf\\symbol_database.py:55: UserWarning: SymbolDatabase.GetPrototype() is deprecated. Please use message_factory.GetMessageClass() instead. SymbolDatabase.GetPrototype() will be removed soon.\n",
      "  warnings.warn('SymbolDatabase.GetPrototype() is deprecated. Please '\n"
     ]
    },
    {
     "name": "stdout",
     "output_type": "stream",
     "text": [
      "Processing open images...\n",
      "Processing narrowed images...\n"
     ]
    },
    {
     "name": "stderr",
     "output_type": "stream",
     "text": [
      "C:\\Users\\felip\\AppData\\Local\\Temp\\ipykernel_16720\\1014457737.py:27: RuntimeWarning: divide by zero encountered in long_scalars\n",
      "  reason_right = abs(rex1-rex2)/abs(rey1-rey2)\n",
      "C:\\Users\\felip\\AppData\\Local\\Temp\\ipykernel_16720\\1014457737.py:26: RuntimeWarning: divide by zero encountered in long_scalars\n",
      "  reason_left = abs(lex1-lex2)/abs(ley1-ley2)\n"
     ]
    },
    {
     "name": "stdout",
     "output_type": "stream",
     "text": [
      "Processing closed images...\n"
     ]
    }
   ],
   "source": [
    "results_wide = []\n",
    "results_open = []\n",
    "results_narrowed = []\n",
    "results_closed = []\n",
    "\n",
    "print('Processing wide images...')\n",
    "for image in images_wide:\n",
    "    frame = cv2.imread('eye_wide/'+image)\n",
    "    if frame is None:\n",
    "        continue\n",
    "    frame = resize_if_too_small(frame)\n",
    "    result = get_features(frame)\n",
    "    if result:\n",
    "        results_wide.append((result[0], result[2]))\n",
    "        results_wide.append((result[1], result[3]))\n",
    "\n",
    "print('Processing open images...')\n",
    "for image in images_open:\n",
    "    frame = cv2.imread('eye_open/'+image)\n",
    "    if frame is None:\n",
    "        continue\n",
    "    frame = resize_if_too_small(frame)\n",
    "    result = get_features(frame)\n",
    "    if result:\n",
    "        results_open.append((result[0], result[2]))\n",
    "        results_open.append((result[1], result[3]))\n",
    "\n",
    "print('Processing narrowed images...')\n",
    "for image in images_narrowed:\n",
    "    frame = cv2.imread('eye_narrowed/'+image)\n",
    "    if frame is None:\n",
    "        continue\n",
    "    frame = resize_if_too_small(frame)\n",
    "    result = get_features(frame)\n",
    "    if result:\n",
    "        results_narrowed.append((result[0], result[2]))\n",
    "        results_narrowed.append((result[1], result[3]))\n",
    "\n",
    "print('Processing closed images...')\n",
    "for image in images_closed:\n",
    "    frame = cv2.imread('eye_closed/'+image)\n",
    "    if frame is None:\n",
    "        continue\n",
    "    frame = resize_if_too_small(frame)\n",
    "    result = get_features(frame)\n",
    "    if result:\n",
    "        results_closed.append((result[0], result[2]))\n",
    "        results_closed.append((result[1], result[3]))"
   ]
  },
  {
   "cell_type": "code",
   "execution_count": 80,
   "metadata": {},
   "outputs": [
    {
     "name": "stdout",
     "output_type": "stream",
     "text": [
      "1616 2734 1892 2472\n"
     ]
    }
   ],
   "source": [
    "print(len(results_wide), len(results_open), len(results_narrowed), len(results_closed))"
   ]
  },
  {
   "cell_type": "code",
   "execution_count": 81,
   "metadata": {},
   "outputs": [],
   "source": [
    "results_wide = np.array(results_wide)\n",
    "results_open = np.array(results_open)\n",
    "results_narrowed = np.array(results_narrowed)\n",
    "results_closed = np.array(results_closed)"
   ]
  },
  {
   "cell_type": "code",
   "execution_count": 82,
   "metadata": {},
   "outputs": [
    {
     "name": "stdout",
     "output_type": "stream",
     "text": [
      "<class 'pandas.core.frame.DataFrame'>\n",
      "Index: 8714 entries, 0 to 8713\n",
      "Data columns (total 3 columns):\n",
      " #   Column                  Non-Null Count  Dtype  \n",
      "---  ------                  --------------  -----  \n",
      " 0   normalized_sclera_area  8714 non-null   float64\n",
      " 1   width_over_height       8714 non-null   float64\n",
      " 2   label                   8714 non-null   object \n",
      "dtypes: float64(2), object(1)\n",
      "memory usage: 272.3+ KB\n"
     ]
    }
   ],
   "source": [
    "df = pd.DataFrame(columns=['normalized_sclera_area', 'width_over_height', 'label'])\n",
    "\n",
    "for value in results_wide:\n",
    "    df.loc[len(df)] = {'normalized_sclera_area': value[0], 'width_over_height': value[1], 'label': 'wide'}\n",
    "for value in results_open:\n",
    "    df.loc[len(df)] = {'normalized_sclera_area': value[0], 'width_over_height': value[1], 'label': 'open'}\n",
    "for value in results_narrowed:\n",
    "    df.loc[len(df)] = {'normalized_sclera_area': value[0], 'width_over_height': value[1], 'label': 'narrowed'}\n",
    "for value in results_closed:\n",
    "    df.loc[len(df)] = {'normalized_sclera_area': value[0], 'width_over_height': value[1], 'label': 'closed'}\n",
    "\n",
    "df.info()"
   ]
  },
  {
   "cell_type": "code",
   "execution_count": 83,
   "metadata": {},
   "outputs": [
    {
     "data": {
      "text/html": [
       "<div>\n",
       "<style scoped>\n",
       "    .dataframe tbody tr th:only-of-type {\n",
       "        vertical-align: middle;\n",
       "    }\n",
       "\n",
       "    .dataframe tbody tr th {\n",
       "        vertical-align: top;\n",
       "    }\n",
       "\n",
       "    .dataframe thead th {\n",
       "        text-align: right;\n",
       "    }\n",
       "</style>\n",
       "<table border=\"1\" class=\"dataframe\">\n",
       "  <thead>\n",
       "    <tr style=\"text-align: right;\">\n",
       "      <th></th>\n",
       "      <th>normalized_sclera_area</th>\n",
       "      <th>width_over_height</th>\n",
       "      <th>label</th>\n",
       "    </tr>\n",
       "  </thead>\n",
       "  <tbody>\n",
       "    <tr>\n",
       "      <th>0</th>\n",
       "      <td>0.341435</td>\n",
       "      <td>2.000000</td>\n",
       "      <td>wide</td>\n",
       "    </tr>\n",
       "    <tr>\n",
       "      <th>1</th>\n",
       "      <td>0.273199</td>\n",
       "      <td>2.533333</td>\n",
       "      <td>wide</td>\n",
       "    </tr>\n",
       "    <tr>\n",
       "      <th>2</th>\n",
       "      <td>0.312066</td>\n",
       "      <td>2.181818</td>\n",
       "      <td>wide</td>\n",
       "    </tr>\n",
       "    <tr>\n",
       "      <th>3</th>\n",
       "      <td>0.310704</td>\n",
       "      <td>2.130435</td>\n",
       "      <td>wide</td>\n",
       "    </tr>\n",
       "    <tr>\n",
       "      <th>4</th>\n",
       "      <td>0.277127</td>\n",
       "      <td>2.526316</td>\n",
       "      <td>wide</td>\n",
       "    </tr>\n",
       "    <tr>\n",
       "      <th>...</th>\n",
       "      <td>...</td>\n",
       "      <td>...</td>\n",
       "      <td>...</td>\n",
       "    </tr>\n",
       "    <tr>\n",
       "      <th>8709</th>\n",
       "      <td>0.012524</td>\n",
       "      <td>20.000000</td>\n",
       "      <td>closed</td>\n",
       "    </tr>\n",
       "    <tr>\n",
       "      <th>8710</th>\n",
       "      <td>0.024852</td>\n",
       "      <td>20.000000</td>\n",
       "      <td>closed</td>\n",
       "    </tr>\n",
       "    <tr>\n",
       "      <th>8711</th>\n",
       "      <td>0.018644</td>\n",
       "      <td>20.000000</td>\n",
       "      <td>closed</td>\n",
       "    </tr>\n",
       "    <tr>\n",
       "      <th>8712</th>\n",
       "      <td>0.064209</td>\n",
       "      <td>9.666667</td>\n",
       "      <td>closed</td>\n",
       "    </tr>\n",
       "    <tr>\n",
       "      <th>8713</th>\n",
       "      <td>0.061915</td>\n",
       "      <td>15.500000</td>\n",
       "      <td>closed</td>\n",
       "    </tr>\n",
       "  </tbody>\n",
       "</table>\n",
       "<p>8714 rows × 3 columns</p>\n",
       "</div>"
      ],
      "text/plain": [
       "      normalized_sclera_area  width_over_height   label\n",
       "0                   0.341435           2.000000    wide\n",
       "1                   0.273199           2.533333    wide\n",
       "2                   0.312066           2.181818    wide\n",
       "3                   0.310704           2.130435    wide\n",
       "4                   0.277127           2.526316    wide\n",
       "...                      ...                ...     ...\n",
       "8709                0.012524          20.000000  closed\n",
       "8710                0.024852          20.000000  closed\n",
       "8711                0.018644          20.000000  closed\n",
       "8712                0.064209           9.666667  closed\n",
       "8713                0.061915          15.500000  closed\n",
       "\n",
       "[8714 rows x 3 columns]"
      ]
     },
     "execution_count": 83,
     "metadata": {},
     "output_type": "execute_result"
    }
   ],
   "source": [
    "df"
   ]
  },
  {
   "cell_type": "code",
   "execution_count": 84,
   "metadata": {},
   "outputs": [],
   "source": [
    "df.to_json('data.json', index=False)"
   ]
  }
 ],
 "metadata": {
  "kernelspec": {
   "display_name": "Python 3",
   "language": "python",
   "name": "python3"
  },
  "language_info": {
   "codemirror_mode": {
    "name": "ipython",
    "version": 3
   },
   "file_extension": ".py",
   "mimetype": "text/x-python",
   "name": "python",
   "nbconvert_exporter": "python",
   "pygments_lexer": "ipython3",
   "version": "3.11.0"
  },
  "orig_nbformat": 4
 },
 "nbformat": 4,
 "nbformat_minor": 2
}
